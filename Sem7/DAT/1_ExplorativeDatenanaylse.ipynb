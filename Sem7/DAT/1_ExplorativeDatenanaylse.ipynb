{
 "cells": [
  {
   "cell_type": "markdown",
   "id": "7d1106cf",
   "metadata": {},
   "source": [
    "# Explorative Datenanalyse des NYCFlights Datensatzes\n",
    "\n",
    "### Vorwissen:\n",
    "Mit einem gewissen Vorwissen in Statistik (Basics aus MA3) haben Sie mehr von der Veranstaltung. Die wichtigsten Grundlagen finden Sie zum Beispiel in:\n",
    "- Kopp-Schneider, Werft “Grundlagen der Statistik” in Medizinische Physik: https://link.springer.com/book/10.1007%2F978-3-662-54801-1\n",
    "\n",
    "### Literatur zum Nachschlagen während des Labors (Links auf moodle): \n",
    "- Bruce et al. Praktische Statistik für Data Scientists, Kapitel 1 bis Seite 31\n",
    "- Sauer, Moderne Datenanalyse mit R: Wir machen eine ähnliche Analyse mit Python wie in Kapitel 10 (ohne 10.2.3) mit R beschrieben\n",
    "- Python-Dokumentationen, z.B. VanderPlas: Data Science mit Python\n",
    "\n",
    "### Sie werden hier:\n",
    "- Datensatz einlesen/laden\n",
    "- Daten als Tabelle anschauen: typische Datenstruktur für Data Science: pandas DataFrame\n",
    "- Unterschiedliche Skalentypen der Daten erkennen\n",
    "- Kategoriale Daten visualisieren (Welche Datentypen sind kategorial?)\n",
    "- Metrische (kontinuierlich oder diskret mit vielen Werten) Daten visualisieren und nach Kategorien sortiert visualisieren\n",
    "- Zusammenhänge zwischen metrischen Daten visualisieren und interpretieren\n",
    "- den NYCFlights Datensatz erkunden\n",
    "\n",
    "### Lernziele:\n",
    "- Sie haben eine erste Idee wie eine explorative Datenanalyse funktioniert und sich schon einmal in einen Datensatz vertieft.\n",
    "- Sie erkennen unterschiedliche Datentypen und können Daten unterschiedlicher Datentypen geeignet visualisieren.\n",
    "- Sie können Visualisierungen nach verschiedenen Kategorien in Python nutzen und wissen, wann welche Visualisierung sinnvoll ist.\n",
    "\n",
    "### Output:\n",
    "- 1 Graph Ihrer Wahl (jede/r wird vermutlich etwas anderes finden, was sie/er interessant findet. Zu Beginn der nächsten Vorlesung werden wir alle Graphen anschauen und so unser Wissen über den Datensatz erweitern). Bitte bis nächsten Dienstag auf moodle hochladen. Bitte stellen Sie die Daten so dar, dass sie auf einer Folie erkennbar sind (Größe der Achsenbeschriftung, etc.)."
   ]
  },
  {
   "cell_type": "code",
   "execution_count": null,
   "id": "3548bf3f",
   "metadata": {},
   "outputs": [],
   "source": [
    "#Nötige Module importieren\n",
    "\n",
    "#Daten einlesen und Daten verarbeiten\n",
    "import pandas as pd\n",
    "\n",
    "#Plotten\n",
    "import matplotlib.pyplot as plt\n",
    "\n",
    "#zum (einfacheren) Erstellen guter statistischer Plots:\n",
    "import seaborn as sns\n",
    "\n",
    "sns.set_theme()  # alle Plots (auch von matplotlib) im seaborn-Style\n",
    "\n",
    "# Numerische und statistisches Werkzeug\n",
    "import numpy as np\n",
    "from scipy import stats"
   ]
  },
  {
   "cell_type": "markdown",
   "id": "6418c67c",
   "metadata": {},
   "source": [
    "## Anleitung\n",
    "\n",
    "Im Folgenden sollen Sie versuchen mit Hilfe von Visualisierungen einen (ersten) Überblick über den NYCFlights Datensatz zu bekommen. Für einfache und gute statistische Datenvisualisierungen eignet sich das Paket `seaborn`. Es basiert auf `matplotlib`. Es vereinfacht sehr viele Vorgänge und liefert überaus nützliche und hochwertige Graphen: \n",
    "https://seaborn.pydata.org/index.html\n",
    "\n",
    "Ändern von Darstellung und Beschriftung etc. basiert auf matplotlib. Die Dokumentation finden Sie unter: https://matplotlib.org/stable/api/_as_gen/matplotlib.pyplot.html\n",
    "\n",
    "In der letzten Anleitung gab es hierzu schon die ersten Graphen. Nun wollen wir uns etwas genauer mit dem Datensatz beschäftigen. Wir fokussieren uns in diesem Labor darauf, Daten abhängig von verschiedenen Kategorien zu visualisieren. Verteilungen von kontinuierlichen Daten betrachten wir in späteren Laboren."
   ]
  },
  {
   "cell_type": "markdown",
   "id": "81da0a5a",
   "metadata": {
    "collapsed": false,
    "jupyter": {
     "outputs_hidden": false
    }
   },
   "source": [
    "### 1. Analyse der Datentypen und Erstellung eines Codebooks\n",
    "Wir nutzen den NYC Flights Datensatz gekürzt um die fehlenden Werte (siehe 0_ExplorativeDatenanalyse_Einführung). Bevor wir mit Visualisierungen starten, müssen wir die Art der Variablen kennen. Schauen Sie sich die Datentabelle an und notieren Sie kurz für jede Variable:\n",
    "\n",
    "- Bedeutung (können Sie mit dem Namen etwas anfangen? Schauen Sie ggf. in die Dokumentation!)\n",
    "- Datentyp und Skalenniveau\n",
    "- Möglicher Wertebereich, Einheit etc. \n",
    "- evtl. weitere Anmerkungen (z.B. Anzahl fehlender Werte)"
   ]
  },
  {
   "cell_type": "code",
   "execution_count": null,
   "id": "7536dd73",
   "metadata": {
    "collapsed": false,
    "jupyter": {
     "outputs_hidden": false
    }
   },
   "outputs": [],
   "source": [
    "from nycflights13 import flights\n",
    "fls = flights.dropna()\n",
    "fls.head()"
   ]
  },
  {
   "cell_type": "code",
   "execution_count": null,
   "id": "3d4b4541a7bd605b",
   "metadata": {
    "collapsed": false,
    "jupyter": {
     "outputs_hidden": false
    }
   },
   "outputs": [],
   "source": [
    "#TODO: Erstellen eines einfachen, kurzen CodeBooks"
   ]
  },
  {
   "cell_type": "markdown",
   "id": "30614e80a808033e",
   "metadata": {},
   "source": [
    "### 2. Analyse der Kategorien\n",
    "\n",
    "Sie haben nun geschaut welche Variablen kategorisch vorliegen. Finden Sie heraus, wie viele verschiedene Kategorien es jeweils gibt. Starten Sie auch hier mit Visualisierungen durch geeignete Balkendiagramme (sns.countplots). Für Details können Sie dann immer noch rechnen. Einen ersten Plot sollten Sie schon mit der letzten Anleitung erstellt haben. Schauen Sie sich jetzt alle Kategorien an. Evtl. stellen Sie dabei fest, dass eine der Kategorien, die Sie als kategorial einsortiert hatten, eigentlich nicht kategorial ist, sondern z.B. numerisch vorliegt, aber nur wenige verschiedene Werte annehmen kann.\n",
    "\n",
    "Um auf ein Element einer Variable zuzugreifen: `'variablenname'[[index]]` (index beginnt bei 0) (z.B. `fls.year[[0]]`)"
   ]
  },
  {
   "cell_type": "code",
   "execution_count": null,
   "id": "3e441694ef7d1e26",
   "metadata": {
    "collapsed": false,
    "jupyter": {
     "outputs_hidden": false
    }
   },
   "outputs": [],
   "source": [
    "#TODO: Analyse der Kategorien"
   ]
  },
  {
   "cell_type": "markdown",
   "id": "c4a08071adcea7c4",
   "metadata": {},
   "source": [
    "### 3. Einfluss der kategorialen Variablen auf die kontinuierlichen Variablen\n",
    "\n",
    "Sie haben nun einen Überblick über die kategorialen Variablen. Nun wollen wir explorieren, welche Kategorien Einfluss auf welche kontinuierlichen Variablen haben. Dazu nutzt man am besten Visualisierungen. Sie können mit den vorgeschlagenen Möglichkeiten aus der letzten Anleitung starten und auch andere testen:\n",
    "\n",
    "- Boxplot: grafische Übersicht der wichtigsten Quantile. Praktischerweise dann auch für verschiedene Kategorien einer Variable getrennt möglich\n",
    "- Violinplot: kombiniert Dichteschätzer und Boxlot (Box nimmt Form der geschätzten Dichtefunktion an)\n",
    "- Kategoriale Barplots verschiedener Metriken (Mittelwert, Median, etc.)\n",
    "- diese und weitere Möglichkeiten z.B. auf: https://seaborn.pydata.org/tutorial/categorical.html\n",
    "\n",
    "Nehmen Sie sich genug Zeit den Datensatz zu erkunden und erstellen Sie dann einen Graph zu einem Aspekt, den Sie interessant finden.\n",
    "Sie dürfen natürlich auch Zusammenhänge zwischen kontinuierlichen Variablen untersuchen. Die Visualisierung in Streudiagrammen ist Ihnen aber vermutlich deutlich bekannter als der Einsatz kategorialer Variablen in Visualisierungen, achten Sie daher darauf, dass in Ihrem Graphen auch kategoriale Variablen vorkommen."
   ]
  },
  {
   "cell_type": "code",
   "execution_count": null,
   "id": "2d87d3b5fc03b219",
   "metadata": {},
   "outputs": [],
   "source": [
    "# TODO: Exploration des Datensatzes durch Visualisierungen."
   ]
  }
 ],
 "metadata": {
  "kernelspec": {
   "display_name": "Python 3 (ipykernel)",
   "language": "python",
   "name": "python3"
  },
  "language_info": {
   "codemirror_mode": {
    "name": "ipython",
    "version": 3
   },
   "file_extension": ".py",
   "mimetype": "text/x-python",
   "name": "python",
   "nbconvert_exporter": "python",
   "pygments_lexer": "ipython3",
   "version": "3.11.7"
  }
 },
 "nbformat": 4,
 "nbformat_minor": 5
}
