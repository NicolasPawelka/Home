{
 "cells": [
  {
   "cell_type": "code",
   "execution_count": 37,
   "id": "d28b832e-585a-4078-8d0f-fdf7416f68b0",
   "metadata": {},
   "outputs": [],
   "source": [
    "class WetterDaten:\n",
    "    def __init__(self):\n",
    "        self.daten = []\n",
    "    def hinzufuegen_tagesdaten(self,tagesdaten):\n",
    "        self.daten.append(tagesdaten)\n",
    "    def ausgabe_tagesdaten(self,tag):\n",
    "        return self.daten[tag]\n",
    "    def max_temperatur(self):\n",
    "        max_temp = self.daten[0][0][0]\n",
    "        for day in self.daten:\n",
    "            for data in day:\n",
    "                if data[0] > max_temp:\n",
    "                    max_temp = data[0]\n",
    "        return max_temp\n",
    "    def durchschnittlicher_niederschlag(self):\n",
    "        ergebnis = []\n",
    "        for day in self.daten:\n",
    "            val = 0\n",
    "            counter = 0\n",
    "            for data in day:\n",
    "                val += data[1]\n",
    "                counter += 1\n",
    "            ergebnis.append(val/counter)\n",
    "        return ergebnis\n",
    "    def tage_ohne_Niederschlaege(self):\n",
    "        counter = 0\n",
    "        for day in self.daten:\n",
    "            rain = 0\n",
    "            for data in day:\n",
    "                rain += data[1]\n",
    "            if rain == 0:\n",
    "                counter += 1\n",
    "        return counter\n",
    "    def hoechster_niederschlag(self):\n",
    "        max_rain = -1\n",
    "        erg = -1\n",
    "        counter = 0\n",
    "        for day in self.daten:\n",
    "            rain = 0\n",
    "            for data in day:\n",
    "                rain += data[1]\n",
    "            if rain > max_rain:\n",
    "                max_rain = rain\n",
    "                erg = counter\n",
    "            counter += 1\n",
    "        return erg\n",
    "        \n",
    "\n",
    "    def temp_ueber_schwelle(self,schwelle):\n",
    "        counter = 0\n",
    "        for day in self.daten:\n",
    "            set = False\n",
    "            for data in day:\n",
    "                if data[0] > schwelle and set == False:\n",
    "                    counter += 1\n",
    "                    set = True\n",
    "                    \n",
    "        return counter\n",
    "wetter = WetterDaten()"
   ]
  },
  {
   "cell_type": "code",
   "execution_count": 38,
   "id": "0ff8574f-db1f-4e3f-8621-06a51e627c62",
   "metadata": {},
   "outputs": [
    {
     "data": {
      "text/plain": [
       "[(19, 2), (21, 1), (20, 2)]"
      ]
     },
     "execution_count": 38,
     "metadata": {},
     "output_type": "execute_result"
    }
   ],
   "source": [
    "wetter.hinzufuegen_tagesdaten([(20,0),(22,0.5),(21,1)])\n",
    "wetter.hinzufuegen_tagesdaten([(19,2),(21,1),(20,2)])\n",
    "wetter.hinzufuegen_tagesdaten([(34,2),(30,2),(32,2)])\n",
    "wetter.hinzufuegen_tagesdaten([(34,0),(30,0),(32,0)])\n",
    "wetter.hinzufuegen_tagesdaten([(34,0),(30,0),(39,0)])\n",
    "wetter.ausgabe_tagesdaten(0)\n",
    "wetter.ausgabe_tagesdaten(1)"
   ]
  },
  {
   "cell_type": "code",
   "execution_count": 39,
   "id": "32068e9b-11d6-4ba7-a030-b489f27e820f",
   "metadata": {},
   "outputs": [
    {
     "data": {
      "text/plain": [
       "39"
      ]
     },
     "execution_count": 39,
     "metadata": {},
     "output_type": "execute_result"
    }
   ],
   "source": [
    "wetter.max_temperatur()"
   ]
  },
  {
   "cell_type": "code",
   "execution_count": 40,
   "id": "5304f8b9-1d45-4fb6-a1e0-5db2f13a42cb",
   "metadata": {},
   "outputs": [
    {
     "data": {
      "text/plain": [
       "[0.5, 1.6666666666666667, 2.0, 0.0, 0.0]"
      ]
     },
     "execution_count": 40,
     "metadata": {},
     "output_type": "execute_result"
    }
   ],
   "source": [
    "wetter.durchschnittlicher_niederschlag()"
   ]
  },
  {
   "cell_type": "code",
   "execution_count": 41,
   "id": "aad8b454-9007-4dc7-99ba-ff85e558b195",
   "metadata": {},
   "outputs": [
    {
     "data": {
      "text/plain": [
       "2"
      ]
     },
     "execution_count": 41,
     "metadata": {},
     "output_type": "execute_result"
    }
   ],
   "source": [
    "wetter.tage_ohne_Niederschlaege()"
   ]
  },
  {
   "cell_type": "code",
   "execution_count": 42,
   "id": "fb4fa8a8-8209-4c12-975a-b4690ac85baa",
   "metadata": {},
   "outputs": [
    {
     "data": {
      "text/plain": [
       "2"
      ]
     },
     "execution_count": 42,
     "metadata": {},
     "output_type": "execute_result"
    }
   ],
   "source": [
    "wetter.hoechster_niederschlag()"
   ]
  },
  {
   "cell_type": "code",
   "execution_count": 44,
   "id": "3131dfe6-efab-4b7a-98d8-5e2ad6dba261",
   "metadata": {},
   "outputs": [
    {
     "data": {
      "text/plain": [
       "3"
      ]
     },
     "execution_count": 44,
     "metadata": {},
     "output_type": "execute_result"
    }
   ],
   "source": [
    "wetter.temp_ueber_schwelle(30)"
   ]
  },
  {
   "cell_type": "code",
   "execution_count": null,
   "id": "d37f9524-11b9-4d86-8bf2-293e4eacc144",
   "metadata": {},
   "outputs": [],
   "source": []
  }
 ],
 "metadata": {
  "kernelspec": {
   "display_name": "Python 3 (ipykernel)",
   "language": "python",
   "name": "python3"
  },
  "language_info": {
   "codemirror_mode": {
    "name": "ipython",
    "version": 3
   },
   "file_extension": ".py",
   "mimetype": "text/x-python",
   "name": "python",
   "nbconvert_exporter": "python",
   "pygments_lexer": "ipython3",
   "version": "3.11.7"
  }
 },
 "nbformat": 4,
 "nbformat_minor": 5
}
