{
 "cells": [
  {
   "cell_type": "raw",
   "metadata": {},
   "source": [
    "# BM - SS 24\n",
    "## Python Einführung\n",
    "\n",
    "### Prof. Dr. Marcus Vetter\n",
    "\n",
    "#### 26.03.2024\n",
    "\n",
    "Diese Beispiele und Übungen wurden angepasst aus Rajath Kumar's Python-Lectures (https://github.com/rajathkmp/Python-Lectures) "
   ]
  },
  {
   "cell_type": "markdown",
   "metadata": {},
   "source": [
    "# Typen und Variablen"
   ]
  },
  {
   "cell_type": "code",
   "execution_count": 1,
   "metadata": {},
   "outputs": [],
   "source": [
    "a = 12\n",
    "b = 12.0101\n",
    "c = '12'\n",
    "d = \"Hello World\"\n"
   ]
  },
  {
   "cell_type": "markdown",
   "metadata": {},
   "source": [
    "print(a, type(a))\n",
    "print(b, type(b))\n",
    "print(c, type(c))\n",
    "print(d, type(d))"
   ]
  },
  {
   "cell_type": "markdown",
   "metadata": {},
   "source": [
    "### Print statements\n",
    "Mehr Möglichkeiten finden Sie unter: https://docs.python.org/3/tutorial/inputoutput.html"
   ]
  },
  {
   "cell_type": "code",
   "execution_count": 6,
   "metadata": {},
   "outputs": [
    {
     "name": "stdout",
     "output_type": "stream",
     "text": [
      "12, Hello World, 12.01\n",
      "12, Hello World, 12.01\n",
      "100, 100.12\n",
      "12, Hello World, 12.0101\n"
     ]
    }
   ],
   "source": [
    "print(\"%d, %s, %2.2f\" % (a, d, b))\n",
    "print(\"{}, {}, {:2.2f}\".format(a, d, b))\n",
    "print(\"{x}, {y:2.2f}\".format(x=100, y=100.12112))\n",
    "print(f\"{a}, {d}, {b}\")"
   ]
  },
  {
   "cell_type": "markdown",
   "metadata": {},
   "source": [
    "### Arithmetische Operatoren\n",
    "\n",
    "| Symbol | Operation |\n",
    "|--------|-----------|\n",
    "|+| Summation |\n",
    "|-| Subtraktion|\n",
    "|/| Division |\n",
    "|%| mod |\n",
    "|*| Multiplikation|\n",
    "|//| floor Division|\n",
    "|**| Potenz|"
   ]
  },
  {
   "cell_type": "code",
   "execution_count": 3,
   "metadata": {},
   "outputs": [],
   "source": [
    "a = 1.2\n",
    "b = 1\n",
    "c = a + b"
   ]
  },
  {
   "cell_type": "code",
   "execution_count": 6,
   "metadata": {},
   "outputs": [
    {
     "name": "stdout",
     "output_type": "stream",
     "text": [
      "2.2\n"
     ]
    }
   ],
   "source": [
    "print(c)"
   ]
  },
  {
   "cell_type": "code",
   "execution_count": 4,
   "metadata": {},
   "outputs": [
    {
     "data": {
      "text/plain": [
       "0.6"
      ]
     },
     "execution_count": 4,
     "metadata": {},
     "output_type": "execute_result"
    }
   ],
   "source": [
    "a / 2"
   ]
  },
  {
   "cell_type": "code",
   "execution_count": 5,
   "metadata": {},
   "outputs": [
    {
     "data": {
      "text/plain": [
       "0.0"
      ]
     },
     "execution_count": 5,
     "metadata": {},
     "output_type": "execute_result"
    }
   ],
   "source": [
    "a // 2 # integer division"
   ]
  },
  {
   "cell_type": "code",
   "execution_count": 6,
   "metadata": {},
   "outputs": [
    {
     "data": {
      "text/plain": [
       "1.44"
      ]
     },
     "execution_count": 6,
     "metadata": {},
     "output_type": "execute_result"
    }
   ],
   "source": [
    " a**2 # a²"
   ]
  },
  {
   "cell_type": "markdown",
   "metadata": {},
   "source": [
    "### Bitweiser Operator\n",
    "\n",
    "| Symbol | Operation |\n",
    "|--------|-----------|\n",
    "|&| Logisches Und |\n",
    "|l | Logisches Oder |\n",
    "|^| XOR |\n",
    "|~| Negation |\n",
    "|>>| Right shift|\n",
    "|<<| Left shift|"
   ]
  },
  {
   "cell_type": "code",
   "execution_count": 7,
   "metadata": {},
   "outputs": [],
   "source": [
    "a = 2 # 010\n",
    "b = 6 # 110\n",
    "c = a & b"
   ]
  },
  {
   "cell_type": "code",
   "execution_count": 8,
   "metadata": {},
   "outputs": [
    {
     "name": "stdout",
     "output_type": "stream",
     "text": [
      "2\n",
      "0b10\n"
     ]
    }
   ],
   "source": [
    "print(c)\n",
    "print(bin(c))"
   ]
  },
  {
   "cell_type": "code",
   "execution_count": 9,
   "metadata": {},
   "outputs": [
    {
     "name": "stdout",
     "output_type": "stream",
     "text": [
      "1\n",
      "0\n"
     ]
    }
   ],
   "source": [
    "print(c>>1)\n",
    "print(c>>2)"
   ]
  },
  {
   "cell_type": "markdown",
   "metadata": {},
   "source": [
    "### Tupel, Listen, Dicts"
   ]
  },
  {
   "cell_type": "code",
   "execution_count": 10,
   "metadata": {},
   "outputs": [
    {
     "name": "stdout",
     "output_type": "stream",
     "text": [
      "(2, 4, 6) <class 'tuple'>\n",
      "[2, 4, 6] <class 'list'>\n"
     ]
    }
   ],
   "source": [
    "# Tuple \n",
    "a = (2, 4, 6)\n",
    "# List\n",
    "b = [2, 4, 6]\n",
    "print(a, type(a))\n",
    "print(b, type(b))"
   ]
  },
  {
   "cell_type": "code",
   "execution_count": 11,
   "metadata": {},
   "outputs": [
    {
     "name": "stdout",
     "output_type": "stream",
     "text": [
      "2 6\n",
      "2 6\n"
     ]
    }
   ],
   "source": [
    "print(a[0], a[-1])\n",
    "print(b[0], b[-1])"
   ]
  },
  {
   "cell_type": "code",
   "execution_count": 12,
   "metadata": {},
   "outputs": [
    {
     "ename": "TypeError",
     "evalue": "'tuple' object does not support item assignment",
     "output_type": "error",
     "traceback": [
      "\u001b[1;31m---------------------------------------------------------------------------\u001b[0m",
      "\u001b[1;31mTypeError\u001b[0m                                 Traceback (most recent call last)",
      "Cell \u001b[1;32mIn[12], line 1\u001b[0m\n\u001b[1;32m----> 1\u001b[0m a[\u001b[38;5;241m0\u001b[39m] \u001b[38;5;241m=\u001b[39m \u001b[38;5;241m1\u001b[39m\n",
      "\u001b[1;31mTypeError\u001b[0m: 'tuple' object does not support item assignment"
     ]
    }
   ],
   "source": [
    "a[0] = 1 # Tupel sind unveränderlich"
   ]
  },
  {
   "cell_type": "code",
   "execution_count": 13,
   "metadata": {},
   "outputs": [
    {
     "name": "stdout",
     "output_type": "stream",
     "text": [
      "[1, 4, 6]\n"
     ]
    }
   ],
   "source": [
    "b[0] = 1\n",
    "print(b)"
   ]
  },
  {
   "cell_type": "code",
   "execution_count": 14,
   "metadata": {},
   "outputs": [
    {
     "name": "stdout",
     "output_type": "stream",
     "text": [
      "[0, 1, 2]\n",
      "[9, 2, 9, 2, 9, 2, 9, 2, 9, 2, 9, 2, 9, 2, 9, 2, 9, 2, 9, 2]\n"
     ]
    }
   ],
   "source": [
    "# Erstellen einer Liste\n",
    "c = [0, 1, 2]\n",
    "d = [9, 2] * 10\n",
    "print(c)\n",
    "print(d)"
   ]
  },
  {
   "cell_type": "code",
   "execution_count": 17,
   "metadata": {},
   "outputs": [
    {
     "name": "stdout",
     "output_type": "stream",
     "text": [
      "<class 'float'>\n"
     ]
    }
   ],
   "source": [
    "# Listen können verschiedene Datentypen halten\n",
    "e = ['Foo', 1.0, 6]\n",
    "print(type(e[1]))"
   ]
  },
  {
   "cell_type": "code",
   "execution_count": 19,
   "metadata": {},
   "outputs": [
    {
     "name": "stdout",
     "output_type": "stream",
     "text": [
      "['Foo', 1.0, 6, 'bar', [4, 5, 6], 'bar']\n",
      "['Foo', 1.0, 6, 'bar', [4, 5, 6], 'bar', [4, 5, 6]]\n"
     ]
    }
   ],
   "source": [
    "e.append('bar')\n",
    "print(e)\n",
    "e.append([4, 5, 6])\n",
    "print(e)"
   ]
  },
  {
   "cell_type": "code",
   "execution_count": 20,
   "metadata": {},
   "outputs": [
    {
     "name": "stdout",
     "output_type": "stream",
     "text": [
      "5\n"
     ]
    }
   ],
   "source": [
    "print(e[-1][-2])"
   ]
  },
  {
   "cell_type": "code",
   "execution_count": 21,
   "metadata": {},
   "outputs": [
    {
     "name": "stdout",
     "output_type": "stream",
     "text": [
      "['Foo', 1.0, 6, 'bar', [4, 5, 6], 'bar', [4, 5, 6], 7, 8, 9]\n"
     ]
    }
   ],
   "source": [
    "e.extend([7, 8, 9])\n",
    "print(e)"
   ]
  },
  {
   "cell_type": "code",
   "execution_count": 28,
   "metadata": {},
   "outputs": [
    {
     "name": "stdout",
     "output_type": "stream",
     "text": [
      "[0, 1, 2, 3, 4]\n",
      "[0, 1, 2, 3, 4]\n",
      "[1, 2, 3, 4]\n",
      "[1, 3, 5, 7]\n"
     ]
    }
   ],
   "source": [
    "f = [0, 1, 2, 3, 4, 5, 6, 7, 8, 9]\n",
    "print(f[0:5])\n",
    "print(f[:5])\n",
    "print(f[1:5])\n",
    "print(f[1:-1:2])"
   ]
  },
  {
   "cell_type": "code",
   "execution_count": 32,
   "metadata": {},
   "outputs": [
    {
     "name": "stdout",
     "output_type": "stream",
     "text": [
      "10\n",
      "9\n",
      "0\n"
     ]
    }
   ],
   "source": [
    "print(len(f))\n",
    "print(max(f))\n",
    "print(min(f))"
   ]
  },
  {
   "cell_type": "code",
   "execution_count": 29,
   "metadata": {},
   "outputs": [
    {
     "name": "stdout",
     "output_type": "stream",
     "text": [
      "['a', 'bb', 'ccc', 'abcdef', 'd', 'ef']\n"
     ]
    }
   ],
   "source": [
    "g = ['a', 'bb', 'ccc', 'abcdef', 'd', 'ef']\n",
    "print(g)"
   ]
  },
  {
   "cell_type": "code",
   "execution_count": 31,
   "metadata": {},
   "outputs": [
    {
     "name": "stdout",
     "output_type": "stream",
     "text": [
      "['a', 'abcdef', 'bb', 'ccc', 'd', 'ef']\n",
      "['a', 'abcdef', 'bb', 'ccc', 'd', 'ef']\n"
     ]
    }
   ],
   "source": [
    "h = sorted(g)\n",
    "g.sort() # inplace sort\n",
    "print(h)\n",
    "print(g)"
   ]
  },
  {
   "cell_type": "code",
   "execution_count": 32,
   "metadata": {},
   "outputs": [
    {
     "name": "stdout",
     "output_type": "stream",
     "text": [
      "['a', 'd', 'bb', 'ef', 'ccc', 'abcdef']\n"
     ]
    }
   ],
   "source": [
    "j = sorted(g, key=len)\n",
    "print(j)"
   ]
  },
  {
   "cell_type": "code",
   "execution_count": 33,
   "metadata": {},
   "outputs": [
    {
     "name": "stdout",
     "output_type": "stream",
     "text": [
      "1\n"
     ]
    }
   ],
   "source": [
    "# Suchen in listen\n",
    "if 'd' in j: print(j.index('d'))"
   ]
  },
  {
   "cell_type": "markdown",
   "metadata": {},
   "source": [
    "Weitere functionen:\n",
    "`insert`, `pop`, `remove`, `reverse`, ...\n",
    "\n",
    "https://docs.python.org/3/tutorial/datastructures.html"
   ]
  },
  {
   "cell_type": "markdown",
   "metadata": {},
   "source": [
    "### Kopieren von Listen"
   ]
  },
  {
   "cell_type": "code",
   "execution_count": 34,
   "metadata": {},
   "outputs": [
    {
     "name": "stdout",
     "output_type": "stream",
     "text": [
      "[1, 1, 2]\n",
      "[1, 1, 2]\n"
     ]
    }
   ],
   "source": [
    "# Shallow copy\n",
    "a = [0, 1, 2]\n",
    "b = a\n",
    "b[0] = 1\n",
    "print(a)\n",
    "print(b)"
   ]
  },
  {
   "cell_type": "code",
   "execution_count": 35,
   "metadata": {},
   "outputs": [
    {
     "name": "stdout",
     "output_type": "stream",
     "text": [
      "[1, 1, 2]\n",
      "[2, 1, 2]\n",
      "[10, 1, 2]\n"
     ]
    }
   ],
   "source": [
    "# Deep copy\n",
    "c = a[:]\n",
    "d = list(a)\n",
    "c[0] = 2\n",
    "d[0] = 10\n",
    "print(a)\n",
    "print(c)\n",
    "print(d)"
   ]
  },
  {
   "cell_type": "markdown",
   "metadata": {},
   "source": [
    "### Vergleiche"
   ]
  },
  {
   "cell_type": "code",
   "execution_count": 36,
   "metadata": {},
   "outputs": [
    {
     "name": "stdout",
     "output_type": "stream",
     "text": [
      "True True\n",
      "True False\n"
     ]
    }
   ],
   "source": [
    "a = [0, 1, 2]\n",
    "b = a\n",
    "c = a[:]\n",
    "print(a==b, a is b)\n",
    "print(a==c, a is c)"
   ]
  },
  {
   "cell_type": "markdown",
   "metadata": {},
   "source": [
    "### Mapping"
   ]
  },
  {
   "cell_type": "code",
   "execution_count": 41,
   "metadata": {},
   "outputs": [
    {
     "name": "stdout",
     "output_type": "stream",
     "text": [
      "0 1 2\n"
     ]
    }
   ],
   "source": [
    "a = [0, 1, 2]\n",
    "x, y, z = a\n",
    "print(x, y, z)"
   ]
  },
  {
   "cell_type": "code",
   "execution_count": 42,
   "metadata": {},
   "outputs": [
    {
     "name": "stdout",
     "output_type": "stream",
     "text": [
      "0 in a\n"
     ]
    }
   ],
   "source": [
    "if 0 in a:\n",
    "    print(\"0 in a\")\n",
    "\n",
    "    "
   ]
  },
  {
   "cell_type": "markdown",
   "metadata": {},
   "source": [
    "### Dictionaries"
   ]
  },
  {
   "cell_type": "code",
   "execution_count": 37,
   "metadata": {},
   "outputs": [
    {
     "name": "stdout",
     "output_type": "stream",
     "text": [
      "{'val0': 'foo', 'val1': 'bar'}\n"
     ]
    }
   ],
   "source": [
    "a = {\n",
    "    'val0': 'foo',\n",
    "    'val1': 'bar'\n",
    "}\n",
    "print(a)"
   ]
  },
  {
   "cell_type": "markdown",
   "metadata": {},
   "source": [
    "Dictionaries werden als hash tables implementiert."
   ]
  },
  {
   "cell_type": "code",
   "execution_count": 38,
   "metadata": {},
   "outputs": [
    {
     "name": "stdout",
     "output_type": "stream",
     "text": [
      "foo\n"
     ]
    }
   ],
   "source": [
    "print(a['val0'])"
   ]
  },
  {
   "cell_type": "code",
   "execution_count": 39,
   "metadata": {},
   "outputs": [
    {
     "ename": "KeyError",
     "evalue": "'val2'",
     "output_type": "error",
     "traceback": [
      "\u001b[1;31m---------------------------------------------------------------------------\u001b[0m",
      "\u001b[1;31mKeyError\u001b[0m                                  Traceback (most recent call last)",
      "Cell \u001b[1;32mIn[39], line 1\u001b[0m\n\u001b[1;32m----> 1\u001b[0m \u001b[38;5;28mprint\u001b[39m(\u001b[43ma\u001b[49m\u001b[43m[\u001b[49m\u001b[38;5;124;43m'\u001b[39;49m\u001b[38;5;124;43mval2\u001b[39;49m\u001b[38;5;124;43m'\u001b[39;49m\u001b[43m]\u001b[49m)\n",
      "\u001b[1;31mKeyError\u001b[0m: 'val2'"
     ]
    }
   ],
   "source": [
    "print(a['val2'])"
   ]
  },
  {
   "cell_type": "code",
   "execution_count": 40,
   "metadata": {},
   "outputs": [
    {
     "name": "stdout",
     "output_type": "stream",
     "text": [
      "-1\n"
     ]
    }
   ],
   "source": [
    "print(a.get('val2', -1)) # default return value"
   ]
  },
  {
   "cell_type": "code",
   "execution_count": 42,
   "metadata": {},
   "outputs": [
    {
     "name": "stdout",
     "output_type": "stream",
     "text": [
      "{'val0': 'foo', 'val1': 'bar', 'val2': 'foobar'}\n"
     ]
    }
   ],
   "source": [
    "a['val2'] = 'foobar'\n",
    "print(a)\n"
   ]
  },
  {
   "cell_type": "markdown",
   "metadata": {},
   "source": [
    "### Comprehensions"
   ]
  },
  {
   "cell_type": "code",
   "execution_count": 43,
   "metadata": {},
   "outputs": [
    {
     "name": "stdout",
     "output_type": "stream",
     "text": [
      "[1, 2, 3, 4, 5, 6, 7, 8, 9, 10]\n",
      "{'key_0': 1, 'key_1': 2, 'key_2': 3, 'key_3': 4, 'key_4': 5}\n"
     ]
    }
   ],
   "source": [
    "a = [x+1 for x in range(10)]\n",
    "b = {'key_' + str(x): x+1 for x in range(5)}\n",
    "print(a)\n",
    "print(b)"
   ]
  },
  {
   "cell_type": "code",
   "execution_count": 44,
   "metadata": {},
   "outputs": [
    {
     "name": "stdout",
     "output_type": "stream",
     "text": [
      "[0, 2, 4, 6, 8]\n"
     ]
    }
   ],
   "source": [
    "# Mit Bedingungen\n",
    "c = [x for x in range(10) if x % 2 == 0]\n",
    "print(c)"
   ]
  },
  {
   "cell_type": "code",
   "execution_count": 45,
   "metadata": {},
   "outputs": [
    {
     "name": "stdout",
     "output_type": "stream",
     "text": [
      "[('red', 'house'), ('red', 'car'), ('red', 'tree'), ('green', 'house'), ('green', 'car'), ('green', 'tree'), ('blue', 'house'), ('blue', 'car'), ('blue', 'tree')]\n"
     ]
    }
   ],
   "source": [
    "colours = [\"red\", \"green\", \"blue\"]\n",
    "things = [\"house\", \"car\", \"tree\"]\n",
    "coloured_things = [(x,y) for x in colours for y in things]\n",
    "print(coloured_things)"
   ]
  },
  {
   "cell_type": "markdown",
   "metadata": {},
   "source": [
    "### Schleifen"
   ]
  },
  {
   "cell_type": "code",
   "execution_count": 54,
   "metadata": {},
   "outputs": [
    {
     "name": "stdout",
     "output_type": "stream",
     "text": [
      "idx 0, element 0\n",
      "idx 1, element 1\n",
      "idx 2, element 2\n",
      "idx 3, element 3\n",
      "idx 4, element 4\n",
      "idx 5, element 5\n",
      "idx 6, element 6\n",
      "idx 7, element 7\n",
      "idx 8, element 8\n",
      "idx 9, element 9\n"
     ]
    }
   ],
   "source": [
    "l = list(range(10))\n",
    "for idx in range(len(l)):\n",
    "    print('idx {}, element {}'.format(idx, l[idx]))"
   ]
  },
  {
   "cell_type": "code",
   "execution_count": 46,
   "metadata": {},
   "outputs": [
    {
     "name": "stdout",
     "output_type": "stream",
     "text": [
      "3\n",
      "4\n",
      "5\n"
     ]
    }
   ],
   "source": [
    "l =[3,4,5]\n",
    "for elem in l:\n",
    "    print(elem)"
   ]
  },
  {
   "cell_type": "code",
   "execution_count": 47,
   "metadata": {},
   "outputs": [
    {
     "name": "stdout",
     "output_type": "stream",
     "text": [
      "idx 0, element 0\n",
      "idx 1, element 1\n",
      "idx 2, element 4\n",
      "idx 3, element 9\n",
      "idx 4, element 16\n",
      "idx 5, element 25\n",
      "idx 6, element 36\n",
      "idx 7, element 49\n",
      "idx 8, element 64\n",
      "idx 9, element 81\n"
     ]
    }
   ],
   "source": [
    "l = [x**2 for x in range(10)]\n",
    "for idx, elem in enumerate(l):\n",
    "    print('idx {}, element {}'.format(idx, elem))"
   ]
  },
  {
   "cell_type": "code",
   "execution_count": 57,
   "metadata": {},
   "outputs": [
    {
     "name": "stdout",
     "output_type": "stream",
     "text": [
      "elem1 0, elem2 1\n",
      "elem1 1, elem2 2\n",
      "elem1 2, elem2 3\n",
      "elem1 3, elem2 4\n",
      "elem1 4, elem2 5\n",
      "elem1 5, elem2 6\n",
      "elem1 6, elem2 7\n",
      "elem1 7, elem2 8\n",
      "elem1 8, elem2 9\n",
      "elem1 9, elem2 10\n"
     ]
    }
   ],
   "source": [
    "# zip() ermöglicht es über mehrere Listen gleichzeitig zu iterieren\n",
    "l1 = list(range(10))\n",
    "l2 = [x+1 for x in l1]\n",
    "for elem1, elem2 in zip(l1, l2):\n",
    "    print('elem1 {}, elem2 {}'.format(elem1, elem2))"
   ]
  },
  {
   "cell_type": "code",
   "execution_count": 58,
   "metadata": {},
   "outputs": [
    {
     "name": "stdout",
     "output_type": "stream",
     "text": [
      "[True, False, False, False, False, False, False, False, False, False]\n"
     ]
    }
   ],
   "source": [
    "l1[0], l2[0] = 1, 1\n",
    "c = [elem1 == elem2 for elem1, elem2 in zip(l1, l2)]\n",
    "print(c)"
   ]
  },
  {
   "cell_type": "code",
   "execution_count": 59,
   "metadata": {},
   "outputs": [
    {
     "name": "stdout",
     "output_type": "stream",
     "text": [
      "True\n",
      "False\n"
     ]
    }
   ],
   "source": [
    "print(any(c))\n",
    "print(all(c))"
   ]
  },
  {
   "cell_type": "markdown",
   "metadata": {},
   "source": [
    "### Funktionen"
   ]
  },
  {
   "cell_type": "code",
   "execution_count": 60,
   "metadata": {},
   "outputs": [],
   "source": [
    "def my_func():\n",
    "    print('my_func called')"
   ]
  },
  {
   "cell_type": "code",
   "execution_count": 61,
   "metadata": {},
   "outputs": [
    {
     "name": "stdout",
     "output_type": "stream",
     "text": [
      "my_func called\n"
     ]
    }
   ],
   "source": [
    "my_func()"
   ]
  },
  {
   "cell_type": "code",
   "execution_count": 62,
   "metadata": {},
   "outputs": [
    {
     "name": "stdout",
     "output_type": "stream",
     "text": [
      "my_func called with 1.0\n"
     ]
    }
   ],
   "source": [
    "def my_func(x):\n",
    "    print('my_func called with {}'.format(x))\n",
    "\n",
    "my_func(1.0)"
   ]
  },
  {
   "cell_type": "code",
   "execution_count": 63,
   "metadata": {},
   "outputs": [
    {
     "name": "stdout",
     "output_type": "stream",
     "text": [
      "(1, 2, 4)\n",
      "<class 'tuple'>\n",
      "1 2 4\n",
      "(1, 2, 4)\n"
     ]
    }
   ],
   "source": [
    "# Return kann beliebig viele Werte zurückgeben\n",
    "def my_return_func(x, y, z):\n",
    "    a = x + 1\n",
    "    b = a + y\n",
    "    c = z**2\n",
    "    return a, b, c\n",
    "\n",
    "# Die folgenden Aufrufe sind zulässig\n",
    "ret = my_return_func(0, 1, 2)\n",
    "print(ret)\n",
    "print(type(ret))\n",
    "d, e, f = my_return_func(0, 1, 2)\n",
    "print(d, e, f)\n",
    "ret = my_return_func(y=1, x=0, z=2)\n",
    "print(ret)"
   ]
  },
  {
   "cell_type": "markdown",
   "metadata": {},
   "source": [
    "### Unpacking"
   ]
  },
  {
   "cell_type": "code",
   "execution_count": null,
   "metadata": {},
   "outputs": [],
   "source": [
    "arguments = (0, 1, 2)\n",
    "ret = my_return_func(*arguments)\n",
    "print(ret)"
   ]
  },
  {
   "cell_type": "code",
   "execution_count": null,
   "metadata": {},
   "outputs": [],
   "source": [
    "arguments = {\n",
    "    'x': 0,\n",
    "    'y': 1,\n",
    "    'z': 2\n",
    "}\n",
    "\n",
    "ret = my_return_func(**arguments)\n",
    "print(ret)"
   ]
  },
  {
   "cell_type": "code",
   "execution_count": 64,
   "metadata": {},
   "outputs": [
    {
     "name": "stdout",
     "output_type": "stream",
     "text": [
      "(1, 2, 4)\n"
     ]
    }
   ],
   "source": [
    "# Default values können in der Funktion festgelegt werden\n",
    "def my_return_func(x, y=1, z=2):\n",
    "    a = x + 1\n",
    "    b = a + y\n",
    "    c = z**2\n",
    "    return a, b, c\n",
    "\n",
    "print(my_return_func(0, z=2))"
   ]
  },
  {
   "cell_type": "markdown",
   "metadata": {},
   "source": [
    "### Global vs. lokal"
   ]
  },
  {
   "cell_type": "code",
   "execution_count": 67,
   "metadata": {},
   "outputs": [
    {
     "name": "stdout",
     "output_type": "stream",
     "text": [
      "Before my_func: [0, 1, 2]\n",
      "Inside my_func: [0, 1, 2, 17]\n",
      "After my_func: [0, 1, 2]\n"
     ]
    }
   ],
   "source": [
    "a = [0, 1, 2]\n",
    "\n",
    "def my_func(a):\n",
    "    arg_copy = a[:]\n",
    "    arg_copy.append(17)\n",
    "    print('Inside my_func: {}'.format(arg_copy))\n",
    "\n",
    "print('Before my_func: {}'.format(a))\n",
    "my_func(a)\n",
    "print('After my_func: {}'.format(a))"
   ]
  },
  {
   "cell_type": "code",
   "execution_count": 68,
   "metadata": {},
   "outputs": [
    {
     "name": "stdout",
     "output_type": "stream",
     "text": [
      "Before my_func: [0, 1, 2]\n",
      "Inside my_func: [0, 1, 2, 17]\n",
      "After my_func: [0, 1, 2]\n"
     ]
    }
   ],
   "source": [
    "a = [0, 1, 2]\n",
    "\n",
    "def my_func():\n",
    "    global a\n",
    "    arg_copy = a[:]\n",
    "    arg_copy.append(17)\n",
    "    print('Inside my_func: {}'.format(arg_copy))\n",
    "\n",
    "print('Before my_func: {}'.format(a))\n",
    "my_func()\n",
    "print('After my_func: {}'.format(a))"
   ]
  },
  {
   "cell_type": "code",
   "execution_count": 69,
   "metadata": {},
   "outputs": [
    {
     "name": "stdout",
     "output_type": "stream",
     "text": [
      "Before my_func: [0, 1, 2]\n",
      "Inside my_func: [0, 1, 2, 17]\n",
      "After my_func: [0, 1, 2, 17]\n"
     ]
    }
   ],
   "source": [
    "a = [0, 1, 2]\n",
    "\n",
    "def my_func():\n",
    "    global a\n",
    "    arg_copy = a\n",
    "    arg_copy.append(17)\n",
    "    print('Inside my_func: {}'.format(arg_copy))\n",
    "    \n",
    "print('Before my_func: {}'.format(a))\n",
    "my_func()\n",
    "print('After my_func: {}'.format(a))"
   ]
  },
  {
   "cell_type": "markdown",
   "metadata": {},
   "source": [
    "### Lambda-Funktionen"
   ]
  },
  {
   "cell_type": "code",
   "execution_count": 70,
   "metadata": {},
   "outputs": [
    {
     "name": "stdout",
     "output_type": "stream",
     "text": [
      "[0, 1, 2, 3, 4, 5, 6, 7, 8, 9]\n"
     ]
    }
   ],
   "source": [
    "l = list(range(10))\n",
    "print(l)"
   ]
  },
  {
   "cell_type": "code",
   "execution_count": 72,
   "metadata": {},
   "outputs": [
    {
     "name": "stdout",
     "output_type": "stream",
     "text": [
      "<map object at 0x000001B548190D30>\n",
      "[2, 3, 4, 5, 6, 7, 8, 9, 10, 11]\n"
     ]
    }
   ],
   "source": [
    "# map() führt die Funktion für jedes Element der Liste aus\n",
    "res = map(lambda x:x+2, l)\n",
    "print(res)\n",
    "print(list(res))"
   ]
  },
  {
   "cell_type": "code",
   "execution_count": 74,
   "metadata": {},
   "outputs": [
    {
     "name": "stdout",
     "output_type": "stream",
     "text": [
      "<filter object at 0x000001B548190748>\n",
      "[0, 1, 2, 3, 4]\n"
     ]
    }
   ],
   "source": [
    "# filter() gibt nur die Werte zurück, die die Bedingung erfüllen\n",
    "res = filter(lambda x:x<5, l)\n",
    "print(res)\n",
    "print(list(res))"
   ]
  },
  {
   "cell_type": "markdown",
   "metadata": {},
   "source": [
    "### Klassen"
   ]
  },
  {
   "cell_type": "code",
   "execution_count": 75,
   "metadata": {},
   "outputs": [],
   "source": [
    "# Alle member-Variablen werden mit self. der Klasse hinzugefügt.\n",
    "\n",
    "class MyClass():\n",
    "    # Klassen-Member\n",
    "    _hidden_var = 1.0\n",
    "    def __init__(self, my_string='World'):\n",
    "        # Instanz-Member\n",
    "        self.my_string = my_string\n",
    "        \n",
    "    def fun(self):\n",
    "        print('Hello ' + self.my_string)\n",
    "        \n",
    "    def get_hidden(self):\n",
    "        return self._hidden_var"
   ]
  },
  {
   "cell_type": "code",
   "execution_count": 76,
   "metadata": {},
   "outputs": [
    {
     "name": "stdout",
     "output_type": "stream",
     "text": [
      "Hello W\n",
      "1.0\n",
      "1.0\n"
     ]
    }
   ],
   "source": [
    "class1 = MyClass(my_string='W')\n",
    "class1.fun()\n",
    "print(class1.get_hidden())\n",
    "# Private member werden mit einem _ vor dem Namen gekennzeichnet.\n",
    "print(class1._hidden_var)"
   ]
  },
  {
   "cell_type": "code",
   "execution_count": 77,
   "metadata": {},
   "outputs": [
    {
     "name": "stdout",
     "output_type": "stream",
     "text": [
      "Hello BM\n",
      "1.0\n"
     ]
    }
   ],
   "source": [
    "class2 = MyClass(my_string='BM')\n",
    "class2.fun()\n",
    "print(class2.get_hidden())"
   ]
  },
  {
   "cell_type": "code",
   "execution_count": 78,
   "metadata": {},
   "outputs": [],
   "source": [
    "class MyClass():\n",
    "    def __init__(self, x=1.0):\n",
    "        self.x = x\n",
    "        \n",
    "    def __call__(self, y):\n",
    "        return self.x*y"
   ]
  },
  {
   "cell_type": "code",
   "execution_count": 79,
   "metadata": {},
   "outputs": [
    {
     "name": "stdout",
     "output_type": "stream",
     "text": [
      "1.0\n"
     ]
    }
   ],
   "source": [
    "class1 = MyClass(x=0.5)\n",
    "print(class1(2.0))"
   ]
  },
  {
   "cell_type": "markdown",
   "metadata": {},
   "source": [
    "### Ableitungen"
   ]
  },
  {
   "cell_type": "code",
   "execution_count": 80,
   "metadata": {},
   "outputs": [],
   "source": [
    "class MyParentClass():\n",
    "    def __init__(self, a):\n",
    "        self.a = a\n",
    "        \n",
    "    def fun(self):\n",
    "        raise NotImplementedError()"
   ]
  },
  {
   "cell_type": "code",
   "execution_count": 81,
   "metadata": {},
   "outputs": [
    {
     "ename": "NotImplementedError",
     "evalue": "",
     "output_type": "error",
     "traceback": [
      "\u001b[1;31m---------------------------------------------------------------------------\u001b[0m",
      "\u001b[1;31mNotImplementedError\u001b[0m                       Traceback (most recent call last)",
      "\u001b[1;32m<ipython-input-81-e22a6e997857>\u001b[0m in \u001b[0;36m<module>\u001b[1;34m\u001b[0m\n\u001b[0;32m      1\u001b[0m \u001b[0mclass1\u001b[0m \u001b[1;33m=\u001b[0m \u001b[0mMyParentClass\u001b[0m\u001b[1;33m(\u001b[0m\u001b[1;36m2.0\u001b[0m\u001b[1;33m)\u001b[0m\u001b[1;33m\u001b[0m\u001b[1;33m\u001b[0m\u001b[0m\n\u001b[1;32m----> 2\u001b[1;33m \u001b[0mclass1\u001b[0m\u001b[1;33m.\u001b[0m\u001b[0mfun\u001b[0m\u001b[1;33m(\u001b[0m\u001b[1;33m)\u001b[0m\u001b[1;33m\u001b[0m\u001b[1;33m\u001b[0m\u001b[0m\n\u001b[0m",
      "\u001b[1;32m<ipython-input-80-934fd18cb11d>\u001b[0m in \u001b[0;36mfun\u001b[1;34m(self)\u001b[0m\n\u001b[0;32m      4\u001b[0m \u001b[1;33m\u001b[0m\u001b[0m\n\u001b[0;32m      5\u001b[0m     \u001b[1;32mdef\u001b[0m \u001b[0mfun\u001b[0m\u001b[1;33m(\u001b[0m\u001b[0mself\u001b[0m\u001b[1;33m)\u001b[0m\u001b[1;33m:\u001b[0m\u001b[1;33m\u001b[0m\u001b[1;33m\u001b[0m\u001b[0m\n\u001b[1;32m----> 6\u001b[1;33m         \u001b[1;32mraise\u001b[0m \u001b[0mNotImplementedError\u001b[0m\u001b[1;33m(\u001b[0m\u001b[1;33m)\u001b[0m\u001b[1;33m\u001b[0m\u001b[1;33m\u001b[0m\u001b[0m\n\u001b[0m",
      "\u001b[1;31mNotImplementedError\u001b[0m: "
     ]
    }
   ],
   "source": [
    "class1 = MyParentClass(2.0)\n",
    "class1.fun()"
   ]
  },
  {
   "cell_type": "code",
   "execution_count": null,
   "metadata": {},
   "outputs": [],
   "source": [
    "class MyClass(MyParentClass):\n",
    "    def __init__(self, x):\n",
    "        super(MyClass, self).__init__(x)\n",
    "        \n",
    "    def fun(self):\n",
    "        return self.a+1\n",
    "    \n",
    "class1 = MyClass(1.0)\n",
    "class1.fun()"
   ]
  },
  {
   "cell_type": "code",
   "execution_count": null,
   "metadata": {},
   "outputs": [],
   "source": []
  }
 ],
 "metadata": {
  "kernelspec": {
   "display_name": "Python 3 (ipykernel)",
   "language": "python",
   "name": "python3"
  },
  "language_info": {
   "codemirror_mode": {
    "name": "ipython",
    "version": 3
   },
   "file_extension": ".py",
   "mimetype": "text/x-python",
   "name": "python",
   "nbconvert_exporter": "python",
   "pygments_lexer": "ipython3",
   "version": "3.11.7"
  }
 },
 "nbformat": 4,
 "nbformat_minor": 4
}
