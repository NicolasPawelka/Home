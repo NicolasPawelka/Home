{
 "cells": [
  {
   "cell_type": "markdown",
   "id": "f6ae21ea",
   "metadata": {},
   "source": [
    "# Labor zu simulationsbasierter Inferenz\n",
    "\n",
    "Literatur: \n",
    "- Sauer Moderne Datenanalyse mit R, Kapitel 17.3 und 17.4 (evtl. weitere Abschnitte aus Kapitel 16 und 17)\n",
    "- Bruce et al. Praktische Statistik für Data Scientists, Auszüge aus Kapitel 2 und 3\n",
    "- Python-Dokumentationen\n",
    "\n",
    "Sie werden hier:\n",
    "- per Bootstrapping Stichprobenverteilungen erstellen\n",
    "- aus einer Stichprobenverteilung ein Konfidenzintervall bestimmen\n",
    "- anhand einer Stichprobenverteilung eine Hypothese testen\n",
    "\n",
    "Lernziele:\n",
    "- wissen, was man unter Bootstrapping versteht\n",
    "- den Unterschied zwischen einer Bootstrap-Stichprobenverteilung und einer 'normalen' Verteilung erläutern können\n",
    "- einfache Simulationskonzepte anwenden können, \n",
    "    - um Konfidenzintervalle zu bestimmen\n",
    "    - um inferenzstatistische Schlüsse zu ziehen\n",
    "- den p-Wert im Rahmen von Simulationskonzepten interpretieren können\n",
    "- Nullhypothesen für einfache Fragestellungen mit Simulationskonzepten testen können\n",
    "\n",
    "Output:\n",
    "- Durchführung einer (einfachen) Inferenzanalyse zum Flugdatensatz"
   ]
  },
  {
   "cell_type": "code",
   "id": "6fa63518",
   "metadata": {},
   "source": [
    "# Nötige Module importieren\n",
    "import pandas as pd\n",
    "\n",
    "# Plotten\n",
    "import matplotlib.pyplot as plt\n",
    "import seaborn\n",
    "\n",
    "# Zum (einfacheren) Erstellen guter statistischer Plots:\n",
    "import seaborn as sns\n",
    "\n",
    "seaborn.set_theme()  # alle Plots (auch von matplotlib) im seaborn-Style\n",
    "\n",
    "# Numerische und statistisches Operationen\n",
    "import numpy as np\n",
    "from scipy import stats\n",
    "from sklearn.utils import resample"
   ],
   "outputs": [],
   "execution_count": null
  },
  {
   "cell_type": "markdown",
   "source": [
    "## 1. Bootstrapping\n",
    "\n",
    "In Realität haben wir nur eine Stichprobe. Wie bekommen wir eine Stichprobenverteilung und damit einen Standardfehler, um von unseren Stichprobenkennwerten auf die Populationskennwerte zu schließen?\n",
    "\n",
    "Bootstrapping ist eine Möglichkeit, die Stichprobenverteilung zu schätzen. Dabei wird aus der Stichprobe mit Zurücklegen gezogen. Die Stichprobe wird also mehrfach gezogen, wobei jedes Element der Stichprobe mit der gleichen Wahrscheinlichkeit gezogen wird. Die Stichprobenverteilung wird dann aus den gezogenen Stichproben berechnet. Dieses Prinzip nennt man Resampling und es wird sehr häufig (und auch schon relativ lange) erfolgreich angewendet (Die Konfidenzintervalle des Medians bei Boxplots werden z.B. damit bestimmt). Wir werden Bootstrapping nun nutzen und uns anschauen, was wir daran lernen können und was wir bei Verwendung beachten müssen.\n",
    "\n",
    "Wir nutzen hierfür wieder die flights-Daten und führen folgende Schritte durch:\n",
    "- Ziehen einer Stichprobe (das ist jetzt die einzige echte Stichprobe, die wir im Folgenden nutzen!)\n",
    "- Erzeugen von bootstrap-Samples aus dieser Stichprobe\n",
    "- Betrachten der Bootstrap-Verteilung der Mittelwerte aller Bootstrap-Samples"
   ],
   "metadata": {
    "collapsed": false
   },
   "id": "b53219b5881c89c7"
  },
  {
   "cell_type": "code",
   "source": [
    "# load data\n",
    "from nycflights13 import flights\n",
    "\n",
    "fls = flights.dropna()\n",
    "delay = fls['arr_delay']\n",
    "print(delay.mean())\n",
    "np.random.seed(\n",
    "    seed=3)  # es werden bei Wiederholung immer die gleichen Daten gezogen (Reproduzierbarkeit des code-Beispiels!)\n",
    "\n",
    "# create a sample of 5 arrival delays\n",
    "sample5 = resample(delay, n_samples=5, replace=False)\n",
    "print(sample5)\n",
    "print(sample5.mean())"
   ],
   "metadata": {
    "collapsed": false
   },
   "id": "f9c52902e8509a5",
   "outputs": [],
   "execution_count": null
  },
  {
   "cell_type": "markdown",
   "source": [
    "Hier haben wir nun eine echte Stichprobe gezogen. Nun ziehen wir daraus eine Bootstrap Stichprobe:"
   ],
   "metadata": {
    "collapsed": false
   },
   "id": "3d9b70a39ca9013c"
  },
  {
   "cell_type": "code",
   "source": [
    "bootstrap_sample = resample(sample5)  #per default wird mit Zurücklegen gezogen, also replace=True\n",
    "print(bootstrap_sample)"
   ],
   "metadata": {
    "collapsed": false
   },
   "id": "e8b075007e13fa67",
   "outputs": [],
   "execution_count": null
  },
  {
   "cell_type": "markdown",
   "source": [
    "Hier sieht man nun, dass durch Ziehen mit Zurücklegen gezogen wurde und damit einige Werte nun doppelt auftreten.\n",
    "\n",
    "Wir machen das Ganze nun mit einer größeren Stichprobe (30 Werte) und ziehen daraus 1000 Bootstrap-Stichproben. Wir schauen uns dann die Verteilung der Mittelwerte an.\n"
   ],
   "metadata": {
    "collapsed": false
   },
   "id": "71fed797645deb5c"
  },
  {
   "cell_type": "code",
   "source": [
    "np.random.seed(123)\n",
    "# Ziehen der echten Stichprobe:\n",
    "echte_stichprobe = resample(delay, n_samples=30, replace=False)\n",
    "\n",
    "# 1000 Bootstrap-Stichproben ziehen und Mittelwert und Median berechnen:\n",
    "results_mean = []\n",
    "results_median = []\n",
    "for _ in range(1000):\n",
    "    sample = resample(echte_stichprobe)  #Standardeinstellung: resample=True\n",
    "    results_mean.append(sample.mean())\n",
    "    results_median.append(sample.median())\n",
    "results_mean = pd.Series(results_mean)\n",
    "results_median = pd.Series(results_median)"
   ],
   "metadata": {
    "collapsed": false
   },
   "id": "c5ee0c7fcbdcce6e",
   "outputs": [],
   "execution_count": null
  },
  {
   "cell_type": "code",
   "source": [
    "# plot Histogram der Mittelwerte und Mediane mit gleichen Achsen:\n",
    "fig, axs = plt.subplots(1, 2, figsize=(10, 5), sharex=True, sharey=True)\n",
    "sns.histplot(results_mean, bins=64, stat='density', ax=axs[0])\n",
    "sns.histplot(results_median, bins=64, stat='density', ax=axs[1])\n",
    "axs[0].set_title('Mittelwerte')\n",
    "axs[1].set_title('Mediane')\n",
    "axs[0].set_xlabel('Sample Mean of arrival delay')\n",
    "axs[1].set_xlabel('Sample Median of arrival delay')\n",
    "plt.show()\n",
    "print('Mittelwert =', results_mean.mean())\n",
    "print('Standardfehler =', results_mean.std())"
   ],
   "metadata": {
    "collapsed": false
   },
   "id": "e18dd534d5535190",
   "outputs": [],
   "execution_count": null
  },
  {
   "cell_type": "markdown",
   "source": "Passen die Histogramme und die berechneten Parameter zu dem, was Sie erwarten (also zum letzten Labor)? Woher kommen Unterschiede?",
   "metadata": {
    "collapsed": false
   },
   "id": "c0b24e9e3aa9369b"
  },
  {
   "cell_type": "markdown",
   "source": [
    "## 2. Konfidenzintervalle\n",
    "\n",
    "### 2.1 Konfidenzintervall für den Mittelwert\n",
    "\n",
    "Im Folgenden wollen wir das 95%-Konfidenzintervall für den Mittelwert bestimmen. Als Konfidenzintervall hätten wir gerne einen Bereich, in dem der Mittelwert mit einer Wahrscheinlichkeit von 95% liegt. Dazu schauen wir uns die Verteilung der Mittelwerte an und bestimmen die Werte, die bei 2,5% und 97,5% liegen. Das sind dann die Grenzen des Konfidenzintervalls. Wirklich korrekt ist diese Definition eines Konfidenzintervalls nicht $\\rightarrow$ das diskutieren wir in der Vorlesung.\n"
   ],
   "metadata": {
    "collapsed": false
   },
   "id": "7cc4074a70dd2cd4"
  },
  {
   "cell_type": "code",
   "source": [
    "# Berechnung der 2,5% and 97,5% Perzentile der Bootstrap-Verteilung\n",
    "conf_int = results_mean.quantile([0.025, 0.975])\n",
    "print(f\"95%-Konfidenzintervall der Bootstrap-Verteilung:[ {conf_int.iloc[0]:.2f} ; {conf_int.iloc[1]:.2f}]\")\n",
    "\n",
    "# Histogramm der Bootstrap-Verteilung mit Darstellung des Konfidenzintervalls\n",
    "fig, axs = plt.subplots(1, 1)\n",
    "sns.histplot(results_mean, bins=30)\n",
    "plt.axvline(conf_int.iloc[0], color='red')\n",
    "plt.axvline(conf_int.iloc[1], color='red')\n",
    "plt.axvline(results_mean.mean(), color='black', linestyle='--')\n",
    "axs.text(conf_int.iloc[0], 40, f'{conf_int.iloc[0]:.0f}',\n",
    "         bbox=dict(facecolor='white', edgecolor='white', alpha=0.5),\n",
    "         horizontalalignment='center', verticalalignment='center')\n",
    "axs.text(conf_int.iloc[1], 40, f'{conf_int.iloc[1]:.0f}',\n",
    "         bbox=dict(facecolor='white', edgecolor='white', alpha=0.5),\n",
    "         horizontalalignment='center', verticalalignment='center')\n",
    "axs.text(results_mean.mean(), 10, f'Mean: {results_mean.mean():.0f}')\n",
    "axs.set_xlabel('Sample Mean of arrival delay')\n",
    "plt.show()"
   ],
   "metadata": {
    "collapsed": false
   },
   "id": "e5613a77c137a0ec",
   "outputs": [],
   "execution_count": null
  },
  {
   "cell_type": "markdown",
   "id": "ecdf9c59",
   "metadata": {},
   "source": [
    "### 2.2 Konfidenzintervall für den Median\n"
   ]
  },
  {
   "cell_type": "code",
   "source": [
    "#TODO: Konfidenzintervall für den Median bestimmen und interpretieren"
   ],
   "metadata": {
    "collapsed": false
   },
   "id": "f9183c65353b17c1",
   "outputs": [],
   "execution_count": null
  },
  {
   "cell_type": "markdown",
   "source": [
    "## 3. Statistische Tests\n",
    "(Siehe Sauer Kapitel 17.4)\n",
    "\n",
    "Häufig möchte man Entscheidungen treffen, zum Beispiel: Ist die mittlere Verspätung größer als 5 Minuten (das könnte man sich bei der Deutschen Bahn manchmal fragen...)?\n",
    "\n",
    "Solche Entscheidungen können wir nur mit Sicherheit treffen, wenn wir die Grundgesamtheit kennen - also alle Daten. Das ist im Normalfall nicht so und wir müssen aus unserer Stichprobe schätzen. Eine (ziemlich gute) Möglichkeit ist eine Stichprobenverteilung für den gesuchten Parameter zu bestimmen und daraus wie oben das Konfidenzintervall zu berechnen. Dann könnten wir schauen, ob die Verspätung im Konfidenzintervall enthalten ist. In der Praxis wird allerdings häufig eine andere Stichprobenverteilung erstellt, nämlich die Stichprobenverteilung der Testgröße des passenden statistischen Tests.\n",
    "Versuchen Sie das anhand von Sauer, Kapitel 17.4 mit dem Flugdatensatz durchzuführen!\n",
    "\n",
    "Ein Hinweis: Das beschriebene Vorgehen konstruiert die Stichprobenverteilung der Einfachheit halber aus normalverteilten Daten. Simulationsbasierte Tests ohne Verteilungsannahme sind in Form von Permutationstests sehr nützlich. Das schauen wir uns später an, hier soll es zunächst um die Grundidee des statistischen Testens gehen.\n",
    "\n",
    "Die Codebeispiele im Buch sind in R programmiert. Hier ein paar Codeschnipsel zum Vorgehen in python:"
   ],
   "metadata": {
    "collapsed": false
   },
   "id": "ca94136fd8e54f41"
  },
  {
   "cell_type": "code",
   "source": [
    "# TODO: Durchführen eines statistischen Tests analog zu Sauer Kapitel 17.4"
   ],
   "metadata": {
    "collapsed": false
   },
   "id": "4fa0dbd9f24320ce",
   "outputs": [],
   "execution_count": null
  },
  {
   "cell_type": "code",
   "id": "6473f3f5",
   "metadata": {},
   "source": [
    "'''Aufstellen der Hypothesen:\n",
    "H1: TODO\n",
    "H0: TODO\n",
    "'''\n",
    "\n",
    "'''Wir brauchen nun eine Aussage über die H0, da wir ja annehmen, dass die H0 wahr ist und wir wollen unsere Stichprobe dann mit der H0 vergleichen. Wir kreieren uns daher eine Stichprobenverteilung aus der H0. Hierzu nehmen wir an, dass die H0 normalverteilt ist mit Erwartungswert 0 und als Streuung nutzen wir die Streuung unserer Stichprobe. \n",
    "'''\n",
    "np.random.seed(123)\n",
    "tests_mean = []\n",
    "# Schleife mit 1000 Wiederholungen:\n",
    "for ??:\n",
    "    # Ziehen einer Stichprobe von 30 Werten aus Normalverteilung mit Erwartungswert 0 (loc=...) und Streuung der Stichprobe (scale=...)\n",
    "    sample = np.random.normal(loc=??, scale=sample30.std(), size=??)\n",
    "\n",
    "    # Mittelwert der Stichprobe berechnen und in Liste einfügen\n",
    "    ??\n",
    "    \n",
    "# Histogramm der Liste darstellen\n",
    "??"
   ],
   "outputs": [],
   "execution_count": null
  },
  {
   "cell_type": "code",
   "source": [
    "# Berechnung des p-Werts der echten Stichprobe. \n",
    "# p-Wert = wie wahrscheinlich wäre der echte Stichprobenmittelwert oder ein extremerer Wert, wenn die H0 wahr wäre?\n",
    "# Berechnet werden muss also der Anteil der Werte in der Stichprobenverteilung, die größer oder gleich dem echten Stichprobenmittelwert sind.\n"
   ],
   "metadata": {
    "collapsed": false
   },
   "id": "9cc0ae56c72150ed",
   "outputs": [],
   "execution_count": null
  },
  {
   "cell_type": "code",
   "source": [
    "# TODO: Wiederholen Sie das Ganze mit einer Stichprobe von 100 Werten und verschiedenen sample seeds (z.B. 3 und 38)"
   ],
   "metadata": {
    "collapsed": false
   },
   "id": "b74818e17d8b9a0d",
   "outputs": [],
   "execution_count": null
  },
  {
   "cell_type": "markdown",
   "source": [
    "## 4. Anwendung auf den Flights-Datensatz\n",
    "\n",
    "Überlegen Sie sich eine (einfache) Fragestellung zum Flugdatensatz, die Sie gerne mit statistischer Inferenz beantworten würden. \n",
    "Beschränken Sie sich zunächst auf eine einfache Fragestellung wie\n",
    "- Wie groß ist das 95%-Konfidenzintervall für den Mittelwert der Verspätung bei Ankunft bei Flügen aus Hawai?\n",
    "- Entspricht der Mittelwert/Median einem bestimmten Wert? (z.B. distance bei Abflug von JFK)\n",
    "- etc.\n",
    "(Bleiben Sie bei den Tests bei einer einfachen Fragestellung, die einen Aspekt mit einem festen Wert oder 0 vergleicht. Zum Vergleich verschiedener Werte, z.B. \"Sind Flüge von United Airlines stärker verspätet als Flüge von Delta Airlines?\" nutzt man simulationstechnisch Permutationstests. Diese werden wir später anschauen.)\n",
    "\n",
    "Nutzen Sie für Ihre Analyse eine Stichprobe von 100 Werten aus dem Flugdatensatz. Ihr Ergebnis vergleichen Sie dann zur Kontrolle mit den echten Daten, also dem Wert des gesamten Datensatzes. Wählen Sie für Ihre Analyse eine der folgenden Alternativen:\n",
    "\n",
    "#### Alternative 1: Simulationsbasierte Berechnung eines Konfidenzintervalls\n",
    "Gehen Sie vor wie in Abschnitt 2.\n",
    "\n",
    "#### Alternative 2: Simulationsbasierter statistischer Test\n",
    "Stellen Sie die passenden Hypothesen auf und gehen Sie vor wie in Abschnitt 3.\n"
   ],
   "metadata": {
    "collapsed": false
   },
   "id": "8be89a769b5b5567"
  },
  {
   "cell_type": "code",
   "source": "# ToDo: Fragestellung zum flight-Datensatz überlegen, die Sie mit statistischer Inferenz beantworten wollen würden und mit einer Stichprobe von 100 Werten anhand einer der zwei Alternativen beantworten",
   "metadata": {
    "collapsed": false
   },
   "id": "edc227a73d85ebbe",
   "outputs": [],
   "execution_count": null
  },
  {
   "cell_type": "markdown",
   "source": [
    "### Output: Übersicht über die von Ihnen durchgeführte Analyse\n",
    "\n",
    "Laden Sie eine Übersicht Ihrer Analyse auf moodle hoch (Umfang: 1-2 Powerpoint Folien oder 1 Seite pdf). Die Übersicht sollte folgende Informationen enthalten:\n",
    "- Fragestellung (bei einem Test incl. Hypothesen)\n",
    "- Graph der Bootstrap-Verteilung mit Markierung des Konfidenzintervalls bzw. bei einem Test des echten Werts\n",
    "- Ihre Interpretation/Schlussfolgerung des Konfidenzintervalls/Tests\n",
    "- Vergleich mit echtem Wert"
   ],
   "metadata": {
    "collapsed": false
   },
   "id": "1379bf13a398abd6"
  },
  {
   "cell_type": "code",
   "source": [
    "# ToDo: Übersicht der vorigen Analyse erstellen und auf moodle hochladen"
   ],
   "metadata": {
    "collapsed": false
   },
   "id": "b2299233999fdfa1",
   "outputs": [],
   "execution_count": null
  },
  {
   "cell_type": "markdown",
   "source": [
    "## Reflexion: Interpretation von Konfidenzintervallen und statistischen Tests\n",
    "Die Berechnung von Konfidenzintervallen und statistischen Test programmiert man selten selbst, die korrekte Interpretation sollte man aber beherrschen.\n",
    "Überlegen Sie daher noch einmal, was Sie durch den simulationsbasierten Ansatz gelernt haben und ob Sie folgende Fragen beantworten können: \n",
    "- Wofür kann man Bootstrapping nutzen?\n",
    "- Was ist der Unterschied zwischen der Entscheidung anhand eines Konfidenzintervalls und der Entscheidung basierend auf einem statistischen Test? \n",
    "- Wie häufig tritt eine Fehlentscheidung auf?\n",
    "- Welchen Zusammenhang gibt es zwischen Nullhypothese, Signifikanzniveau und möglichen Fehlentscheidungen?\n",
    "\n",
    "Kontrollfragen zum Verständnis dieser und ähnlicher Fragen bringe ich in die nächste Vorlesung mit. Offene Fragen Ihrerseits könenn Sie mir auch gerne im Voraus schicken."
   ],
   "metadata": {
    "collapsed": false
   },
   "id": "e02f2e535416756"
  },
  {
   "cell_type": "code",
   "source": [],
   "metadata": {
    "collapsed": false
   },
   "id": "a0f7eca48bce07f7",
   "outputs": [],
   "execution_count": null
  }
 ],
 "metadata": {
  "kernelspec": {
   "display_name": "Python 3",
   "language": "python",
   "name": "python3"
  },
  "language_info": {
   "codemirror_mode": {
    "name": "ipython",
    "version": 3
   },
   "file_extension": ".py",
   "mimetype": "text/x-python",
   "name": "python",
   "nbconvert_exporter": "python",
   "pygments_lexer": "ipython3",
   "version": "3.8.9"
  }
 },
 "nbformat": 4,
 "nbformat_minor": 5
}
