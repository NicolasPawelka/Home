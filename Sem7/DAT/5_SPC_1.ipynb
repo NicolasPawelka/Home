{
 "cells": [
  {
   "cell_type": "markdown",
   "id": "e4515ccf",
   "metadata": {},
   "source": [
    "# Statistische Prozesskontrolle (SPC)\n",
    "\n",
    "In der Industrie werden Fertigungsprozesse anhand statistischer Prozesskontrolle überwacht. Typische Statistiksoftware zur Prozessüberwachung gibt häufig vorgefertigte Zusammenfassungen für den schnellen Überblick. In Minitab (einer in der Halbleiterindustrie weit verbreiteten Software) zeigt z.B. folgende Informationen:\n",
    "\n",
    "![Process Capability Sixpack mit Minitab](minitab-capability-sixpack.png)\n",
    "\n",
    "(die Abbildung liegt auch auf moodle)\n",
    "\n",
    "\n",
    "Als Ingenieur/in in Entwicklung oder Qualitätsmanagement werden Sie mit solchen Informationen arbeiten. Für die nächsten Labore sind Sie daher die zuständigen Entwickler für einen neuen Fertigungsprozess. Dieser soll natürlich im Sinne der Industrie 4.0 automatisiert überwacht werden. Dazu basteln Sie nun eine Prozesskontrolle und erstellen schrittweise ähnliche Graphen und lernen welche Fertigungsfehler Sie so gut abfangen und für welche Sie sich vielleicht ein paar Tricks einfallen lassen müssen.\n",
    "\n",
    "\n",
    "\n",
    "### Literatur\n",
    "- zum 1. Teil: Möhrke, Runge, Arbeiten mit Messdaten: https://link.springer.com/book/10.1007%2F978-3-662-60660-5\n",
    "- zum 2. Teil: Papula Band 3, Kapitel 4.6 (Ansonsten gibt es hier zwar sehr viel Spezialliteratur, die ist aber leider didaktisch eher unbrauchbar. Zudem hat hier jede Branche und jede Firma leicht andere Vorgaben, so dass die Berechnungen verschiedener Quellen in ihren Details nicht konsistent sind. Hier sollen die Konzepte im Mittelpunkt stehen.)\n",
    "\n",
    "\n",
    "### Lernziele:\n",
    "Wir schauen uns in zwei Laboren die statistische Prozesskontrolle an, zunächst mit (hoffentlich) normalverteilten Daten. Im nächsten Schritt mit nicht normalverteilten Daten. Sie sollen am Ende dieser beiden Labore:\n",
    "- Regelkarten erstellen und interpretieren können\n",
    "- Messdaten anhand verschiedener Vorgehen auf Verteilung prüfen (Histogramm, Wahrscheinlichkeitsnetz, Test) und Ergebnis interpretieren können\n",
    "- Prozessfähigkeit einschätzen und anhand von Prozessfähigkeitsindizes bewerten können\n",
    "- Messstreuung und Prozessstreuung unterscheiden können\n",
    "- Regelkarten nutzen können, um weitere Analysen vorzubereiten (ANOVA und ähnliche Themen)"
   ]
  },
  {
   "cell_type": "code",
   "execution_count": 2,
   "id": "68ab6ccc",
   "metadata": {},
   "outputs": [],
   "source": [
    "#Nötige Module importieren\n",
    "\n",
    "#Dateien einlesen\n",
    "import pandas as pd\n",
    "#Plotten\n",
    "import matplotlib.pyplot as plt\n",
    "import seaborn as sns\n",
    "#Numerische Operationen\n",
    "import numpy as np\n",
    "#Statistisches Werkzeug\n",
    "from scipy import stats\n",
    "import statsmodels.api as sm\n",
    "import statsmodels.stats.descriptivestats as ds"
   ]
  },
  {
   "cell_type": "markdown",
   "id": "afb55bb1",
   "metadata": {},
   "source": [
    "## 1. Der neue Fertigungsprozess: 20-seitige Würfel aus dem fakultätseigenen 3D-Drucker\n",
    "\n",
    "Die Fakultät N hat einen eigenen 3D-Drucker, mit dem immer wieder Bauteile für verschiedene Abschlussarbeiten und Forschungsprojekte gerdruckt werden. Die Einstellungen für so einen Druckprozess müssen für jedes Bauteil neu optimiert werden. Für unser DAT-Projekt haben wir versucht günstige (d.h. keine Stützstruktur, relativ schnelle Prozesszeit) 20-seitige Würfel zu drucken und fragen uns nun, wie gut ist dieser Druckprozess?\n",
    "\n",
    "In einem ersten Schritt erhält jeder einen Würfel aus dem fakultätseigenen 3D-Drucker. Wie breit ist dieser?\n",
    "\n",
    "Führen Sie die Messung anhand der beschlossenen Messvorschrift durch. Tragen Sie Ihre Messergebnisse auch bei mir auf dem PC ein, die Daten aller Würfel werden für die nächste Aufgabe benötigt.\n",
    "\n",
    "- Stellen Sie Ihre Daten grafisch dar und geben Sie das Messergebnis an (natürlich incl. Messunsicherheit). (z.B. 95%-Konfidenzintervalls für den Mittelwert bei Annahme normalverteilter Daten)\n",
    "- Stellen Sie sich vor, Sie müssten die Daten ans Management reporten. Wie würden Sie in 1-2 Sätzen die Bedeutung des Konfidenzintervalls erläutern?"
   ]
  },
  {
   "cell_type": "code",
   "execution_count": 3,
   "id": "735cc3b2",
   "metadata": {},
   "outputs": [
    {
     "name": "stdout",
     "output_type": "stream",
     "text": [
      "(array([17.66369521, 17.85596944, 17.91517181, 17.83636638]), array([18.52737622, 18.33510199, 18.27589962, 18.35470505]))\n"
     ]
    },
    {
     "name": "stderr",
     "output_type": "stream",
     "text": [
      "c:\\Users\\pawel\\anaconda3\\Lib\\site-packages\\numpy\\core\\fromnumeric.py:3643: FutureWarning: The behavior of DataFrame.std with axis=None is deprecated, in a future version this will reduce over both axes and return a scalar. To retain the old behavior, pass axis=0 (or do not pass axis)\n",
      "  return std(axis=axis, dtype=dtype, out=out, ddof=ddof, **kwargs)\n",
      "c:\\Users\\pawel\\anaconda3\\Lib\\site-packages\\seaborn\\_oldcore.py:1119: FutureWarning: use_inf_as_na option is deprecated and will be removed in a future version. Convert inf values to NaN before operating instead.\n",
      "  with pd.option_context('mode.use_inf_as_na', True):\n"
     ]
    },
    {
     "data": {
      "text/plain": [
       "<Axes: xlabel='1->20', ylabel='Count'>"
      ]
     },
     "execution_count": 3,
     "metadata": {},
     "output_type": "execute_result"
    },
    {
     "data": {
      "image/png": "[encoded data removed]",
      "text/plain": [
       "<Figure size 640x480 with 1 Axes>"
      ]
     },
     "metadata": {},
     "output_type": "display_data"
    }
   ],
   "source": [
    "#TODO Daten darstellen, Messunsicherheit bestimmen, Konfidenzintervall per python Formel (z.B. scipy.stats.t.interval()) berechnen und kurz erläutern\n",
    "data = pd.read_csv(\"./ikosaeder.csv\",delimiter=\";\", decimal=\",\")\n",
    "\n",
    "mean=np.mean(data)\n",
    "std=np.std(data,ddof=1)\n",
    "n=len(data)\n",
    "alpha=0.05\n",
    "t=stats.t.ppf(1-alpha/2,df=n-1)\n",
    "ci=stats.t.interval(1-alpha,df=n-1,loc=mean,scale=std/np.sqrt(n))\n",
    "print(ci)\n",
    "\n",
    "sns.histplot(data[\"1->20\"])\n"
   ]
  },
  {
   "cell_type": "markdown",
   "id": "3a0aaeba",
   "metadata": {},
   "source": [
    "## 2. Erstellung von Regelkarten\n",
    "Stellen Sie sich nun folgende Situation vor:\n",
    "Sie produzieren Bauteile mit einer gewissen Größe. Nun wollen Sie Ihre Produktion überwachen und entnehmen der Fertigung in regelmäßigen Abständen Bauteile (z.B. aus jeder 5. Waferbox wird von 20 Wafern einer entnommen und je 5 Chips werden vermessen). \n",
    "\n",
    "Bedenken Sie: jede einzelne dieser Messungen hat eine Messunsicherheit! Damit die Schwankungen zwischen den Teilen richtig erkannt werden, muss Ihr Messsystem genau genug sein, um diese Unterschiede abbilden zu können. Hierfür führt man (eigentlich vorher) eine Messsystemanalyse durch - das ist eine unfassbar stupide Aufgabe, die wir uns aus Zeitgründen hier sparen. Lesen Sie bei Bedarf in entsprechender Literatur nach.\n",
    "\n",
    "Hier gehen wir nun davon aus, dass unser Messsystem genau genug ist und wollen den Prozess anhand einer Regelkarte überwachen. Dafür hat jeder 1 Würfel aus dem fakultätseigenen 3D-Drucker in der ersten Aufgabe vermessen. Die gesammelten Daten lege ich, sobald alle Messergebnisse verfügbar sind, auf moodle ab.\n",
    "\n",
    "### 2.1 Einlesen und Überprüfen der Daten auf Korrektheit und auf Verteilung"
   ]
  },
  {
   "cell_type": "code",
   "execution_count": 4,
   "id": "2be21b82",
   "metadata": {
    "scrolled": true
   },
   "outputs": [
    {
     "name": "stdout",
     "output_type": "stream",
     "text": [
      "    1->20  14->7  11->10  3->18\n",
      "0   17.70  18.35   18.35  18.25\n",
      "1   17.80  17.45   18.15  18.35\n",
      "2   17.50  18.10   17.70  18.10\n",
      "3   15.00  18.80   17.10  19.20\n",
      "4   17.85  18.20   17.90  18.45\n",
      "5   17.90  18.80   17.85  19.35\n",
      "6   17.70  17.70   18.00  18.15\n",
      "7   17.75  18.25   18.00  18.30\n",
      "8   17.80  18.10   18.00  18.30\n",
      "9   17.80  18.30   18.00  18.50\n",
      "10  17.90  18.80   17.50  19.10\n",
      "11  17.65  18.40   18.10  19.10\n",
      "12  17.85  18.85   17.95  19.15\n",
      "13  17.30  18.35   17.60  18.90\n"
     ]
    }
   ],
   "source": [
    "#TODO: Daten einlesen und überprüfen ob die Datentabelle korrekt dargestellt wird (Jede Beobachtung 1 Zeile, jede Variable 1 Spalte etc.)\n",
    "data=pd.read_csv(\"ikosaeder.csv\", delimiter=\";\", decimal=\",\") #Einlesen von csv Files als DataFrame\n",
    "print(data)"
   ]
  },
  {
   "cell_type": "code",
   "execution_count": null,
   "id": "9e544da6e9d34291",
   "metadata": {},
   "outputs": [
    {
     "data": {
      "text/plain": [
       "ShapiroResult(statistic=0.8607710599899292, pvalue=1.1849977454403415e-05)"
      ]
     },
     "execution_count": 5,
     "metadata": {},
     "output_type": "execute_result"
    }
   ],
   "source": [
    "#TODO: überprüfen Sie die kompletten Daten auf Normalverteilung\n",
    "melted_data=data.melt()\n",
    "stats.shapiro(melted_data[\"value\"])\n",
    "# Shaprio Test deutet auf keine Normalverteilung der Daten hin"
   ]
  },
  {
   "cell_type": "markdown",
   "id": "3b6bc9c9665cb48c",
   "metadata": {
    "collapsed": false
   },
   "source": [
    "### 2.2 Erstellung der Regelkarten\n",
    "Die Daten sind nun in einer Tabelle gespeichert. Wir wollen sie in einer Regelkarte so darstellen, dass die Messungen der einzelnen Würfel unterscheidbar sind. Orientieren Sie sich an dem Beispiel oben und erstellen Sie drei Karten:\n",
    "- Einzelwertkarte (unterstes Bild): Alle Einzelmessungen werden dargestellt, allerdings gruppiert nach Bauteil\n",
    "- Mittelwertkarte (X-quer-Karte): eine Karte mit den Mittelwerten, um Mittelwertsverschiebungen zu erkennen. Nachteil: Extremwerte gehen unter\n",
    "- Standardabweichungskarte (S-Karte) (im Beispiel Range statt S-Karte): eine Karte, um die Streuung zu überwachen und so Extremwerte zu erkennen \n",
    "\n"
   ]
  },
  {
   "cell_type": "code",
   "execution_count": null,
   "id": "24153695",
   "metadata": {},
   "outputs": [],
   "source": [
    "# TODO: Erstellen Sie drei Regelkarten (Einzelwertkarte, Mittelwertkarte, Standardabweichungskarte)\n",
    "# Einzelwertkarte: Stellen Sie die Daten so dar, dass jede Beobachtung (= 1 Würfel) an gleicher Stelle der x-Achse steht\n",
    "# Mittelwertkarte: Stellen Sie die Mittelwerte zu jedem Würfel dar\n",
    "# Hinweis: transponieren eines DataFrames: data.T. Dann können Sie Größen wie Mittelwerte mit data.T.mean() berechnen\n",
    "means = data.T.mean()\n",
    "# Standardabweichungskarte: Stellen Sie die Standardabweichungen zu jedem Würfel dar\n",
    "stds = data.T.std(ddof=1) # std, var etc. immer mit ddof=1 berechnen, nur mit ddof=1 wird die erwartungstreue Schätzung verwendet. Verschiedene Python Bibliotheken verwenden unterschiedliche default Werte"
   ]
  },
  {
   "cell_type": "markdown",
   "id": "52e881f0eae22e5e",
   "metadata": {},
   "source": [
    "### 2.3 Berechnung der Eingriffsgrenzen\n",
    "\n",
    "Regelkarten werden mit Eingriffsgrenzen/Kontrollgrenzen versehen. D.h. wenn die Kenndaten einer neu hinzukommenden Stichprobe (Mittelwert + Standardabweichung) statistisch unwahrscheinlich ist, wird ein Alarm ausgegeben (diesen Alarm brauchen sie nicht einzubauen). Für die Berechnung der Eingriffgrenzen gehen wir davon aus, dass die Daten normalverteilt sind. (Ein Beispiel zu nicht normalverteilten Daten schauen wir uns im nächsten Labor an.)\n",
    "\n",
    "#### Eingriffsgrenzen für die Mittelwertkarte\n",
    "\n",
    "Für die Mittelwertkarte ist es üblich die Eingriffsgrenzen auf ein Konfidenzintervall für den Mittelwert mit dem Faktor $z=\\pm 3$ zu setzen, also auf Center +/- 3*Standardfehler:\n",
    "\n",
    " $\\mu-z\\frac{\\sigma}{\\sqrt{n}}\\leq \\bar{x}\\leq \\mu+z\\frac{\\sigma}{\\sqrt{n}}$\n",
    " \n",
    "(Das ist nicht ganz das Konfidenzintervall für den Mittelwert, denn hier steht der Schätzwert in der Mitte und der bekannte Wert der Grundgesamtheit wird für die Berechnung der Grenzen genutzt (siehe Papula Band 3, Kapitel 4.6, Formel III-252 für die Eingriffsgrenzen zur Mittelwertskarte)).\n",
    "\n",
    "Berechnen Sie anhand der Verteilungsfunktion der Normalverteilung:\n",
    "- wie häufig kommt es durch Zufall zu Werten außerhalb dieses Bereichs? (d.h. wie groß ist die Überdeckungswahrscheinlichkeit dieser Intervallschätzung?)\n",
    "- die Anzahl Fehlalarme in 1 Million Werte"
   ]
  },
  {
   "cell_type": "code",
   "execution_count": null,
   "id": "52108525507826f2",
   "metadata": {
    "collapsed": false
   },
   "outputs": [],
   "source": [
    "# TODO: Berechnen oder recherchieren Sie die Überdeckungswahrscheinlichkeit der Eingriffsgrenzen für die Mittelwertkarte"
   ]
  },
  {
   "cell_type": "code",
   "execution_count": null,
   "id": "cef50ca9fa8475df",
   "metadata": {
    "collapsed": false
   },
   "outputs": [],
   "source": [
    "# TODO: Berechnung der Eingriffsgrenzen für die Mittelwertkarte"
   ]
  },
  {
   "cell_type": "markdown",
   "id": "da34bca1b7093e66",
   "metadata": {
    "collapsed": false
   },
   "source": [
    "\n",
    "\n",
    "#### Eingriffsgrenzen für die Standardabweichungskarte\n",
    "Bei normalverteilten folgt die Varianz einer Chi-Quadrat Verteilung. Leider ist die Stichprobenverteilung der Varianz nicht normalverteilt. Daher ist die Berechnung der Eingriffsgrenzen mit dem Faktor 3 nicht korrekt.\n",
    "Aus dem Konfidenzintervall für die Varianz (Sachs, Kapitel 6.10) lässt sich analog zur Umformung beim Mittelwert folgender Toleranzbereich für die Standardabweichung herleiten: \n",
    "\n",
    "$\\sigma \\sqrt{\\frac{\\chi^2_{n-1,\\alpha/2}}{n-1}}\\leq s \\leq \\sigma \\sqrt{\\frac{\\chi^2_{n-1,1-\\alpha/2}}{n-1}}$\n",
    "\n",
    "Berechnen Sie mit diesen Infos die Eingriffgrenzen für die Standardabweichungskarte zum 99% Konfidenzniveau.\n"
   ]
  },
  {
   "cell_type": "code",
   "execution_count": null,
   "id": "14ad27a0ce100cfd",
   "metadata": {
    "collapsed": false
   },
   "outputs": [],
   "source": [
    "# TODO: Berechnung der Eingriffsgrenzen für die Standardabweichungskarte\n",
    "# Chi-Quadrat Verteilung: stats.chi2.ppf(1-alpha/2,df=n-1)"
   ]
  },
  {
   "cell_type": "code",
   "execution_count": null,
   "id": "c13aa95f56c88be5",
   "metadata": {},
   "outputs": [],
   "source": [
    "# TODO: Mittelwert - und Standardabweichungskarte mit Eingriffsgrenzen darstellen\n",
    "# (OEG: obere Eingriffsgrenze, UEG: untere Eingriffsgrenze bzw. UCL: upper control limit, LCL: lower control limit)\n",
    "# Einfügen horizontaler Linien in einen Graph: axs[0].axhline(value,color='r',label='')\n",
    "\n",
    "# ein Code - Vorschlag für die Mittelwertkarte:\n",
    "fig, axs = plt.subplots(2, 1, figsize=(10, 5))\n",
    "axs[0].set_title(\"X-Bar-Chart\")\n",
    "axs[0].axhline(UCL_mean,color='r',label='UCL = {}'.format(np.round(UCL_mean,2)))\n",
    "axs[0].axhline(means_center,color='g',label=\"Center\")\n",
    "axs[0].axhline(LCL_mean,color='r',label='LCL = {}'.format(np.round(LCL_mean,2)))\n",
    "axs[0].plot(means,'bx-',label=\"Data\")\n",
    "axs[0].set_ylabel(\"Mean\")\n",
    "axs[0].set_xlabel(\"Sample\")\n",
    "axs[0].legend(loc=(1.04,0.3))\n",
    "\n",
    "plt.tight_layout() # kein Overlap der Beschriftungen der verschiedenen Plots\n",
    "plt.show()"
   ]
  },
  {
   "cell_type": "markdown",
   "id": "dc551061",
   "metadata": {},
   "source": [
    "### 2.4 Regelkarte \"in Betrieb\"\n",
    "Wenn eine Regelkarte in Verwendung ist, werden ständig (hoffentlich automatisiert) neue Daten hinzugefügt (und frühere wieder entfernt). Wenn Sie als zuständige/r Ingenieur/in morgens an Ihren Platz kommen, könnte Ihre erste Aufgabe sein, die Daten der Nacht zu kontrollieren und gegebenenfalls einzugreifen.\n",
    "\n",
    "Unten sind Messwerte weiterer Würfel gegeben.\n",
    "1. Testen Sie Ihre Karte mit den neuen Werten, indem Sie die Werte der Karte hinzufügen!\n",
    "2. Sollte bei diesen Werten in den Prozess eingegriffen werden? Begründen Sie!"
   ]
  },
  {
   "cell_type": "code",
   "execution_count": null,
   "id": "d2143026",
   "metadata": {},
   "outputs": [],
   "source": [
    "#Neue Daten an Tabelle anhängen:\n",
    "neu=[[18.05, 18.80, 18.90, 18.80],\n",
    "     [17.45, 18.20, 17.65, 18.40],\n",
    "     [17.70, 15.40, 15.05, 24.45],\n",
    "     [17.90, 18.15, 18.25, 18.35],\n",
    "     [17.90]]\n",
    "data_neu=pd.concat([data,pd.DataFrame(neu,columns=data.columns.values)],ignore_index=True)"
   ]
  },
  {
   "cell_type": "markdown",
   "id": "874a83c1",
   "metadata": {},
   "source": [
    "### 3 Prozessfähigkeit\n",
    "Wie fähig ist dieser Fertigungsprozess? Überlegen Sie wie die Spezifikationsgrenzen gesetzt werden müssten, um einen c_pk von 1,0 zu erhalten."
   ]
  },
  {
   "cell_type": "code",
   "execution_count": null,
   "id": "fced0bee8c436790",
   "metadata": {
    "collapsed": false
   },
   "outputs": [],
   "source": [
    "# TODO: Spezifikationsgrenzen für c_pk von 1,0 berechnen"
   ]
  }
 ],
 "metadata": {
  "kernelspec": {
   "display_name": "base",
   "language": "python",
   "name": "python3"
  },
  "language_info": {
   "codemirror_mode": {
    "name": "ipython",
    "version": 3
   },
   "file_extension": ".py",
   "mimetype": "text/x-python",
   "name": "python",
   "nbconvert_exporter": "python",
   "pygments_lexer": "ipython3",
   "version": "3.11.7"
  }
 },
 "nbformat": 4,
 "nbformat_minor": 5
}
