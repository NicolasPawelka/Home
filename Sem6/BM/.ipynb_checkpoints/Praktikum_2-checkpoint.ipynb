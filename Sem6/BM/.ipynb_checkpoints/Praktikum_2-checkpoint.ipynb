{
 "cells": [
  {
   "cell_type": "code",
   "execution_count": 2,
   "id": "eee9db0a-562b-4ea7-ae89-a6ea126aecee",
   "metadata": {},
   "outputs": [],
   "source": [
    "import numpy as np"
   ]
  },
  {
   "cell_type": "code",
   "execution_count": 3,
   "id": "0aba2c79-39ef-4ae3-b5e6-257361d06c24",
   "metadata": {},
   "outputs": [],
   "source": [
    "b = np.pi"
   ]
  },
  {
   "cell_type": "code",
   "execution_count": null,
   "id": "94b1341f-586b-4785-8e23-0c6c9b61a418",
   "metadata": {},
   "outputs": [],
   "source": [
    "print(b)"
   ]
  }
 ],
 "metadata": {
  "kernelspec": {
   "display_name": "Python 3 (ipykernel)",
   "language": "python",
   "name": "python3"
  },
  "language_info": {
   "codemirror_mode": {
    "name": "ipython",
    "version": 3
   },
   "file_extension": ".py",
   "mimetype": "text/x-python",
   "name": "python",
   "nbconvert_exporter": "python",
   "pygments_lexer": "ipython3",
   "version": "3.11.7"
  }
 },
 "nbformat": 4,
 "nbformat_minor": 5
}
