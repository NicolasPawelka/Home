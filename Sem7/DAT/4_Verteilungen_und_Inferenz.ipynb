{
 "cells": [
  {
   "cell_type": "markdown",
   "id": "f6ae21ea",
   "metadata": {},
   "source": [
    "# Labor zu Verteilungen und Inferenz\n",
    "\n",
    "Literatur: \n",
    "- QQ-Plot: Fahrmeir, Statistik: Der Weg zur Datenanalyse, Kapitel 2.4.2\n",
    "- mathematischer: Grundlagen der Statistik Kapitel 2.4, Fahrmeir et al., Arens et al. etc.\n",
    "- mehr beschreibend: Bruce et al. Praktische Statistik für Data Scientists, Auszüge aus Kapitel 2 (QQ-Plot und Verteilungen) und 3 (bis Seite 116)\n",
    "- Nachschlagewerk für statistische Methoden: Hedderich, Sachs: Angewandte Statistik, Kapitel 7\n",
    "- Python-Dokumentationen\n",
    "\n",
    "Sie werden hier:\n",
    "- Messdaten zweier Gruppen aufnehmen und statistisch analysieren, ob die Gruppen zur gleichen Grundgesamtheit gehören\n",
    "- Messdaten anhand verschiedener Methoden auf Art der Verteilung prüfen: Histogramm, Wahrscheinlichkeitsnetz/QQ-Plot, statistischer Test\n",
    "- Lagemaß von zwei Stichproben vergleichen unter Annahme verschiedener Voraussetzungen: t-Test, Mann-Whitney-U-Test, Permutationstest\n",
    "\n",
    "Lernziele:\n",
    "- verschiedene Methoden zur Prüfung der Verteilung der Daten anwenden und interpretieren können\n",
    "- verschiedene Methoden zum Vergleich des Lagemaßes von Daten kennen und Ergebnisse interpretieren können\n",
    "- Nullhypothese und Alternativhypothese formulieren können\n",
    "- p-Wert interpretieren können\n",
    "\n",
    "Output:\n",
    "- siehe moodle"
   ]
  },
  {
   "cell_type": "code",
   "id": "6fa63518",
   "metadata": {},
   "source": [
    "# Nötige Module importieren\n",
    "# Daten einlesen, speichern und bearbeiten\n",
    "import pandas as pd\n",
    "\n",
    "# Plotten\n",
    "import matplotlib.pyplot as plt\n",
    "import seaborn as sns\n",
    "sns.set_theme()  # alle Plots (auch von matplotlib) im seaborn-Style\n",
    "\n",
    "# Numerische und statistisches Operationen\n",
    "import numpy as np\n",
    "from scipy import stats\n",
    "from sklearn.utils import resample\n",
    "import statsmodels.api as sm"
   ],
   "outputs": [],
   "execution_count": null
  },
  {
   "cell_type": "markdown",
   "source": [
    "## 1. Daten auf Verteilung prüfen\n",
    "\n",
    "Statistische Methoden weisen meist Voraussetzungen auf, die erfüllt sein müssen, damit die Ergebnisse der Tests gültig sind. Eine wichtige Voraussetzung ist oft die Verteilung der Daten. Meist werden mehrere Tools genutzt, um zu prüfen, ob Daten einer bestimmten Verteilung (häufig der Normalverteilung) folgen.\n",
    "1. Überlegung: welche Gründe gibt es für eine bestimmte Verteilung der Daten? (z.B. zentraler Grenzwertsatz -> Normalverteilung, seltene, unabhängige Ereignisse -> Poissonverteilung etc. Hier sollte Wissen über die Datenerhebung einfließen. Dabei ist häufig der Input eines Statistikers notwendig!)\n",
    "2. Grafische Prüfung und evtl. statistischer Test, um zu sehen, ob die Daten der überlegten Verteilung folgen könnten\n",
    "\n"
   ],
   "metadata": {
    "collapsed": false
   },
   "id": "b53219b5881c89c7"
  },
  {
   "metadata": {},
   "cell_type": "code",
   "source": [
    "#TODO Daten einlesen und überprüfen\n",
    "data = pd.read_csv(\"Folder/File.csv\")\n",
    "data.head()"
   ],
   "id": "13b55de5da3031a2",
   "outputs": [],
   "execution_count": null
  },
  {
   "metadata": {},
   "cell_type": "markdown",
   "source": [
    "### 1.1 Grafische Prüfung auf Normalverteilung\n",
    "\n",
    "Zur grafischen Prüfung auf Verteilungen wird meist eine Kombination verschiedener statistischer Plots verwendet: Histogramm, empirische Verteilungsfunktion und Quantil-Quantil-Plot (QQ-Plot).\n",
    "- Histogramm: Das Histogramm zeigt die Verteilung der Daten. Auch wenn ein Histogramm auf den ersten Blick relativ einfach zu interpretieren scheint, ist es in dieser Darstellung recht schwierig einzuschätzen, ob Daten einer bestimmten Verteilung folgen. \n",
    "- empirische Verteilungsfunktion: Eine andere Möglichkeit der Darstellung ist die (empirische) Verteilungsfunktion. Diese zeigt die relative Häufigkeit, mit der ein Wert unterschritten wird, die grafische Interpretation ist allerdings nicht so intuitiv. \n",
    "- QQ-Plot: Eine gute Möglichkeit ist die Visualisierung in einem Quantil - Quantil Plot. Im QQ-Plot werden die Quantile der Daten gegen die Quantile der Referenzverteilung aufgetragen. Damit ergibt sich bei gleicher Verteilung ein linearer Verlauf, der die grafische Beurteilung sehr erleichtert. Bei einem Normal - Quantil Plot zeigt die Steigung der Linie die Standardabweichung und der Schnittpunkt mit der y-Achse den Mittelwert der Daten.\n",
    "- Alternativ zu QQ-Plots können auch (die weniger verbreiteten) PP-Plots (Probability-Probability-Plots) verwendet werden, die die Wahrscheinlichkeiten der Daten gegen die Wahrscheinlichkeiten der Referenzverteilung auftragen. Der PP-Plot ist weniger sensitiv zu Veränderungen in den Rändern der Verteilung als der QQ-Plot.\n",
    "\n",
    "Unten sehen Sie die drei Darstellungen für den Vergleich der Daten mit einer Normalverteilung. \n",
    "Testen Sie mit den Messdaten und mit zufälligen Daten, die Sie aus einer Normalverteilung ziehen. Sie können auch mit anderen Verteilungen spielen."
   ],
   "id": "e5fb5edb6c71a30d"
  },
  {
   "metadata": {},
   "cell_type": "code",
   "source": [
    "# Grafische Prüfung auf Normalverteilung\n",
    "x = np.linspace(min(data),max(data), 1000)\n",
    "\n",
    "fig, axs = plt.subplots(1, 3, figsize=(15, 5))\n",
    "\n",
    "sns.histplot(data, kde=True, stat='density', ax=axs[0])\n",
    "axs[0].plot(x, stats.norm.pdf(x, loc=data.mean(), scale=data.std()),\n",
    "            color='red')  # Normalverteilung mit Mittelwert und Standardabweichung der Stichprobe, Dichte ist normiert auf 1\n",
    "sns.ecdfplot(data, ax=axs[1])\n",
    "sm.qqplot(data, dist=stats.norm, fit=True, line='q', ax=axs[2]) # Auftragung der Quantile der Stichprobe gegen die Quantile der Standardnormalverteilung, wenn die Daten normalverteilt sind, liegen die Punkte auf der roten Linie\n",
    "\n",
    "axs[0].set_title('Histogram')\n",
    "axs[1].set_title('Empirical distribution function')\n",
    "axs[2].set_title('NQ-Plot')\n",
    "\n",
    "plt.show()"
   ],
   "id": "ad74805487978ba4",
   "outputs": [],
   "execution_count": null
  },
  {
   "metadata": {},
   "cell_type": "markdown",
   "source": [
    "### 1.2 Statistischer Test auf Normalverteilung\n",
    "\n",
    "Statistische Tests in scipy: https://docs.scipy.org/doc/scipy/reference/stats.html\n",
    "\n",
    "Statistischer Test zur Prüfung auf Normalverteilung: Anderson-Darling-Test oder Shapiro-Wilk-Test\n",
    "\n",
    "Schauen Sie in die Dokumentation: \n",
    "- Was ist die Nullhypothese? \n",
    "- Was ist damit der alpha-Fehler (Fehler 1. Art), was ist der beta-Fehler (2. Art)?\n",
    "- Welcher p-Wert gehört zu einem positiven Testergebnis (Nullhypothese ablehnen) bzw. zu einem negativen Testergebnis (Nullhypothese beibehalten)?\n",
    "- Welche Risiken gibt es somit bei der Anwendung des Tests?"
   ],
   "id": "65fce2c619e19d54"
  },
  {
   "metadata": {},
   "cell_type": "code",
   "source": "stats.shapiro(data)",
   "id": "3babdb683a28a464",
   "outputs": [],
   "execution_count": null
  },
  {
   "metadata": {},
   "cell_type": "markdown",
   "source": [
    "### 1.3 Methodenvergleich\n",
    "\n",
    "Sammeln Sie Vor- und Nachteile der verschiedenen Methoden und überlegen Sie, wann welche Methode geeigneter ist."
   ],
   "id": "5ad3fac068815534"
  },
  {
   "cell_type": "markdown",
   "source": [
    "## 2. Lagemaß zweier Stichproben anhand verschiedener Tests vergleichen\n",
    "\n",
    "Nun wollen wir wissen, ob die beiden Boxen mit Büroklammern sich bzgl. ihrer Lebensdauer statistisch signifikant unterscheiden. Statistische Tests weisen unterschiedliche Voraussetzungen auf, die erfüllt sein müssen, damit die Ergebnisse der Tests gültig sind. Hier führen Sie nun verschiedene Tests durch und schauen, wie sich die Ergebnisse unterscheiden. Vermutlich sind nicht alle Voraussetzungen der vorgegebenen Tests erfüllt. Ist das in den Ergebnissen erkennbar?\n",
    "\n",
    "### 2.1 Graphischer Vergleich des Lagemaßes\n",
    "Bevor Sie den Test durchführen, schauen Sie sich die Daten im Vergleich graphisch an. Hierfür eignet sich ein gruppierter Boxplot mit Notch (Konfidenzintervall für den Median). Der Boxplot gibt auch direkt einen Eindruck, ob Voraussetzungen wie Nomalverteilung, gleiche Verteilungen, gleiche Varianz etc. überhaupt erfüllt sein könnten."
   ],
   "metadata": {},
   "id": "2b0c4422a1faf584"
  },
  {
   "metadata": {},
   "cell_type": "code",
   "source": [
    "#TODO: Visulisieren Sie die Daten in jeweils einem Boxplot mit Notch (Konfidenzintervall für den Median)\n",
    "sns.boxplot(data=data, x='group', y='value', notch=True)\n",
    "plt.show()"
   ],
   "id": "245ff8debbbd48f3",
   "outputs": [],
   "execution_count": null
  },
  {
   "metadata": {
    "collapsed": false
   },
   "cell_type": "markdown",
   "source": [
    "\n",
    "### 2.2 t-Test\n",
    "Der am weitesten verbreitete Test zur Überprüfung, ob zwei Stichproben aus der gleichen Grundgesamtheit stammen, ist der t-Test. Der t-Test prüft, ob die Mittelwerte zweier Stichproben signifikant voneinander abweichen. Der t-Test setzt voraus, dass die Daten normalverteilt sind und die Varianzen der beiden Stichproben gleich sind."
   ],
   "id": "7cc4074a70dd2cd4"
  },
  {
   "metadata": {},
   "cell_type": "code",
   "source": "#TODO: Durchführen eines t-Tests",
   "id": "22c0662cd6047217",
   "outputs": [],
   "execution_count": null
  },
  {
   "metadata": {},
   "cell_type": "markdown",
   "source": [
    "### 2.3 Mann-Whitney-U-Test\n",
    "Alternativ zum t-Test kann bei nicht normalverteilten Daten der Mann-Whitney-U-Test durchgeführt werden. Der Mann-Whitney-U-Test ist ein Rangsummentest und überprüft, ob es gleich wahrscheinlich ist, dass ein zufällig aus der einen Population gewählter Wert größer oder kleiner ist als ein zufällig aus der anderen Population gewählter wird. Der Test setzt voraus, dass die Verteilungen der beiden Stichproben gleich sind."
   ],
   "id": "ecdf9c59"
  },
  {
   "metadata": {
    "collapsed": false
   },
   "cell_type": "code",
   "source": "#TODO: Durchführen eines Mann-Whitney-U-Tests",
   "id": "f9183c65353b17c1",
   "outputs": [],
   "execution_count": null
  },
  {
   "cell_type": "markdown",
   "source": [
    "### 2.4 Permuationstest\n",
    "\n",
    "Alternativ kann simulationsbasiert vorgegangen werden und ein Permutationstest durchgeführt werden. Hierfür gibt es keine Voraussetzung an die Verteilung der Daten. Die Nullhypothese wird dadurch getestet, dass die Daten alle in einen Topf geworfen werden und immer wieder neu aufgeteilt werden. Wenn der Unterschied der Mittelwerte in den Daten statistisch signifikant größer ist als der Unterschied der Mittelwerte der permutierten Gruppen, wird die Nullhypothese verworfen."
   ],
   "metadata": {
    "collapsed": false
   },
   "id": "ca94136fd8e54f41"
  },
  {
   "cell_type": "code",
   "source": [
    "# TODO: Durchführen eines Permutationstests (vervollständigen Sie den Code / Passen Sie den Code an Ihre Benennung an)\n",
    "n_permutations = 1000\n",
    "observed_difference = np.mean(data1) - np.mean(data2)\n",
    "n1 = len(data1)\n",
    "n2 = len(data2)\n",
    "data = np.concatenate([data1, data2])\n",
    "differences = []\n",
    "for _ in range(n_permutations):\n",
    "    np.random.shuffle(data)\n",
    "    new_difference = np.mean(data[:n1]) - np.mean(data[n1:])\n",
    "    differences.append(new_difference)\n",
    "# calculate the p-value\n",
    "p_value = ??\n",
    "print(\"H0: no difference, \", \"observed difference:\", observed_difference, \", p-value:\", p_value)"
   ],
   "metadata": {
    "collapsed": false
   },
   "id": "4fa0dbd9f24320ce",
   "outputs": [],
   "execution_count": null
  },
  {
   "metadata": {},
   "cell_type": "markdown",
   "source": [
    "### 2.4 Vergleich der Ergebnisse\n",
    "\n",
    "Vergleichen Sie die Ergebnisse der verschiedenen Tests.\n",
    "- Welcher Test zeigt größere statistische Signifikanz?\n",
    "- Meist sind Tests mit strengeren Voraussetzungen mächtiger (d.h. Sie finden auch kleinere Unterschiede). Trifft das hier zu?\n",
    "- Sind statistisch signifikante Ergebnisse auch wahr?\n",
    "- Welcher Test ist hier geeignet?\n",
    "\n"
   ],
   "id": "16185a9a4b33ab6f"
  },
  {
   "metadata": {},
   "cell_type": "code",
   "source": "",
   "id": "ed2afb387036c6a0",
   "outputs": [],
   "execution_count": null
  }
 ],
 "metadata": {
  "kernelspec": {
   "display_name": "Python 3",
   "language": "python",
   "name": "python3"
  },
  "language_info": {
   "codemirror_mode": {
    "name": "ipython",
    "version": 3
   },
   "file_extension": ".py",
   "mimetype": "text/x-python",
   "name": "python",
   "nbconvert_exporter": "python",
   "pygments_lexer": "ipython3",
   "version": "3.8.9"
  }
 },
 "nbformat": 4,
 "nbformat_minor": 5
}
